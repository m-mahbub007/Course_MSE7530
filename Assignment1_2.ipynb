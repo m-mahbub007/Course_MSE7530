{
  "nbformat": 4,
  "nbformat_minor": 0,
  "metadata": {
    "colab": {
      "provenance": [],
      "collapsed_sections": [
        "btw9DhA-7vzF",
        "Wax9Hz0x_JTE",
        "1ruV_OI895f-",
        "000Fyvj1_Ph7",
        "0B8zHVP4_hJ3"
      ],
      "include_colab_link": true
    },
    "kernelspec": {
      "name": "python3",
      "display_name": "Python 3"
    },
    "language_info": {
      "name": "python"
    }
  },
  "cells": [
    {
      "cell_type": "markdown",
      "metadata": {
        "id": "view-in-github",
        "colab_type": "text"
      },
      "source": [
        "<a href=\"https://colab.research.google.com/github/m-mahbub007/Course_MSE7530/blob/main/Assignment1_2.ipynb\" target=\"_parent\"><img src=\"https://colab.research.google.com/assets/colab-badge.svg\" alt=\"Open In Colab\"/></a>"
      ]
    },
    {
      "cell_type": "markdown",
      "source": [
        "# Assignment 1"
      ],
      "metadata": {
        "id": "aLQ5YNKt5eTB"
      }
    },
    {
      "cell_type": "markdown",
      "source": [
        "Instructions: Please work through this notebook. Anything in <font color='red'> red </font> requires an answer in a code and/or text cell, as indicated. Please leave all of the text I have written; I have arranged the notebook so that I can easily navigate to your answers and skip my own explanations."
      ],
      "metadata": {
        "id": "iEggcmeAD6h9"
      }
    },
    {
      "cell_type": "markdown",
      "source": [
        "## Part 1 : Accessing a Database & Plotting Results"
      ],
      "metadata": {
        "id": "v-ENb4aV5kCQ"
      }
    },
    {
      "cell_type": "markdown",
      "source": [
        "### Python Practice : for loops\n",
        "https://www.w3schools.com/python/python_for_loops.asp  \n",
        "We will talk more about loops in detail, but for now, we will learn by doing. A for loop will do just that: for every \"thing\" in a list/string/etc., the code will do something.\n"
      ],
      "metadata": {
        "id": "btw9DhA-7vzF"
      }
    },
    {
      "cell_type": "markdown",
      "source": [
        "#### Explanations"
      ],
      "metadata": {
        "id": "Wax9Hz0x_JTE"
      }
    },
    {
      "cell_type": "code",
      "execution_count": null,
      "metadata": {
        "id": "Vg5Rxoa35Z8K",
        "colab": {
          "base_uri": "https://localhost:8080/"
        },
        "outputId": "3a89c6e8-7115-4be3-930f-d33c3575843a"
      },
      "outputs": [
        {
          "output_type": "stream",
          "name": "stdout",
          "text": [
            "3.0\n",
            "18.0\n",
            "21.0\n"
          ]
        }
      ],
      "source": [
        "for x in [1., 6., 7.]:\n",
        "  print(x*3)"
      ]
    },
    {
      "cell_type": "markdown",
      "source": [
        "This can be done for many different data types. For example, we can have a list full of strings instead and do the same thing."
      ],
      "metadata": {
        "id": "fP1UJzHH8N2M"
      }
    },
    {
      "cell_type": "code",
      "source": [
        "for l in ['OFET', 'OLED', 'OMIEC']:\n",
        "  print(l)\n",
        "print('Alternatively,')\n",
        "for w in 'OFET':\n",
        "  print(w)"
      ],
      "metadata": {
        "id": "zgh0dntF8UdY",
        "colab": {
          "base_uri": "https://localhost:8080/"
        },
        "outputId": "4894a2c6-df7f-48a5-f39d-d372b7158e97"
      },
      "execution_count": null,
      "outputs": [
        {
          "output_type": "stream",
          "name": "stdout",
          "text": [
            "OFET\n",
            "OLED\n",
            "OMIEC\n",
            "Alternatively,\n",
            "O\n",
            "F\n",
            "E\n",
            "T\n"
          ]
        }
      ]
    },
    {
      "cell_type": "markdown",
      "source": [
        "Something useful that we can use (not quite related) are \"f-strings\". These provide a convenient way to insert strings, integers, or floats, etc. into existing strings. This can be helpful to add a little more context. Take our previous example,"
      ],
      "metadata": {
        "id": "mvrJDJdB8fh1"
      }
    },
    {
      "cell_type": "code",
      "source": [
        "for x in [1., 6., 7.]:\n",
        "  multiplier = 3\n",
        "  print(f'The value of x ({x}) multiplied by {multiplier} is {x*3}')"
      ],
      "metadata": {
        "id": "I5GTs3ms8y4I",
        "colab": {
          "base_uri": "https://localhost:8080/"
        },
        "outputId": "1e65bc22-e9c7-4a95-c855-80bf56bda489"
      },
      "execution_count": null,
      "outputs": [
        {
          "output_type": "stream",
          "name": "stdout",
          "text": [
            "The value of x (1.0) multiplied by 3 is 3.0\n",
            "The value of x (6.0) multiplied by 3 is 18.0\n",
            "The value of x (7.0) multiplied by 3 is 21.0\n"
          ]
        }
      ]
    },
    {
      "cell_type": "markdown",
      "source": [
        "We can use that to make complete strings, as well. For example, (HINT), if we have a dictionary (again, more on these later) which uses strings to access values"
      ],
      "metadata": {
        "id": "iNguG9ey9Fhz"
      }
    },
    {
      "cell_type": "code",
      "source": [
        "mw_dict = {'benzene' :78.11 , 'toluene' : 92.141 , 'propane' : 44.097} # makes a bunch of key/value pairs, which we can reference\n",
        "desired = 'toluene'\n",
        "print(f'The molecular weight of {desired} is {mw_dict[desired]}')"
      ],
      "metadata": {
        "id": "q1B1Q_kO9O6H",
        "colab": {
          "base_uri": "https://localhost:8080/"
        },
        "outputId": "6ed54f5b-6d87-4eb8-f339-ba8783a768bd"
      },
      "execution_count": null,
      "outputs": [
        {
          "output_type": "stream",
          "name": "stdout",
          "text": [
            "The molecular weight of toluene is 92.141\n"
          ]
        }
      ]
    },
    {
      "cell_type": "code",
      "source": [
        "key_list = mw_dict.keys()\n",
        "print(key_list)"
      ],
      "metadata": {
        "id": "HyuRb5ur96Xp",
        "colab": {
          "base_uri": "https://localhost:8080/"
        },
        "outputId": "24c7a22c-7fb6-4b2f-97f2-ab0417f7e913"
      },
      "execution_count": null,
      "outputs": [
        {
          "output_type": "stream",
          "name": "stdout",
          "text": [
            "dict_keys(['benzene', 'toluene', 'propane'])\n"
          ]
        }
      ]
    },
    {
      "cell_type": "code",
      "source": [
        "for k in key_list:\n",
        "  print(f'The molecular weight of {k} is {mw_dict[k]}')"
      ],
      "metadata": {
        "id": "MqZq3fEg98t2",
        "colab": {
          "base_uri": "https://localhost:8080/"
        },
        "outputId": "7b678cc2-919f-4be4-ba29-7713ad739d88"
      },
      "execution_count": null,
      "outputs": [
        {
          "output_type": "stream",
          "name": "stdout",
          "text": [
            "The molecular weight of benzene is 78.11\n",
            "The molecular weight of toluene is 92.141\n",
            "The molecular weight of propane is 44.097\n"
          ]
        }
      ]
    },
    {
      "cell_type": "markdown",
      "source": [
        "#### <font color = 'red'> Practice: write a for loop that:</font>  \n",
        "Converts the following values of energy in eV to J and prints them out. The conversion factor between the two energy units is $1 eV = 1.602 \\times 10^{-19} J$."
      ],
      "metadata": {
        "id": "1ruV_OI895f-"
      }
    },
    {
      "cell_type": "code",
      "source": [
        "energies = [100., 1230., 2000., 3600.]\n",
        "for energies1 in energies:\n",
        "  #print(energies)\n",
        "  print(f' {energies1} eV = {energies1*1.602e-19} J')"
      ],
      "metadata": {
        "colab": {
          "base_uri": "https://localhost:8080/"
        },
        "id": "4BRu9GjVHqBI",
        "outputId": "428dfa9a-08f0-4218-ea1a-b02f2ba82a4c"
      },
      "execution_count": null,
      "outputs": [
        {
          "output_type": "stream",
          "name": "stdout",
          "text": [
            " 100.0 eV = 1.602e-17 J\n",
            " 1230.0 eV = 1.97046e-16 J\n",
            " 2000.0 eV = 3.204e-16 J\n",
            " 3600.0 eV = 5.7672e-16 J\n"
          ]
        }
      ]
    },
    {
      "cell_type": "markdown",
      "source": [
        "### NIST WebBook"
      ],
      "metadata": {
        "id": "000Fyvj1_Ph7"
      }
    },
    {
      "cell_type": "markdown",
      "source": [
        "#### Similarly to what we did in class: <font color = 'red'> Compare the IR and UV-vis spectra for 3 different series of molecules by loading the data, plotting on a common axis (or axes) that facilitates comparison, and qualitatively explaining any trends you see with each series."
      ],
      "metadata": {
        "id": "8SKRlZP2_23S"
      }
    },
    {
      "cell_type": "markdown",
      "source": [
        "##### <font color = 'red'> Series 1: ethane, ethylene, ethyne (acetylene) </font>"
      ],
      "metadata": {
        "id": "2_SKhzKlAmkt"
      }
    },
    {
      "cell_type": "code",
      "source": [
        "! pip install nistchempy"
      ],
      "metadata": {
        "id": "9kZfL0w7AnA-",
        "colab": {
          "base_uri": "https://localhost:8080/"
        },
        "outputId": "89740319-0e21-4595-d2d3-b0e7f88b47f3"
      },
      "execution_count": 1,
      "outputs": [
        {
          "output_type": "stream",
          "name": "stdout",
          "text": [
            "Collecting nistchempy\n",
            "  Downloading nistchempy-1.0.5-py3-none-any.whl.metadata (5.2 kB)\n",
            "Requirement already satisfied: requests in /usr/local/lib/python3.12/dist-packages (from nistchempy) (2.32.4)\n",
            "Requirement already satisfied: pandas in /usr/local/lib/python3.12/dist-packages (from nistchempy) (2.2.2)\n",
            "Collecting bs4 (from nistchempy)\n",
            "  Downloading bs4-0.0.2-py2.py3-none-any.whl.metadata (411 bytes)\n",
            "Requirement already satisfied: beautifulsoup4 in /usr/local/lib/python3.12/dist-packages (from bs4->nistchempy) (4.13.5)\n",
            "Requirement already satisfied: numpy>=1.26.0 in /usr/local/lib/python3.12/dist-packages (from pandas->nistchempy) (2.0.2)\n",
            "Requirement already satisfied: python-dateutil>=2.8.2 in /usr/local/lib/python3.12/dist-packages (from pandas->nistchempy) (2.9.0.post0)\n",
            "Requirement already satisfied: pytz>=2020.1 in /usr/local/lib/python3.12/dist-packages (from pandas->nistchempy) (2025.2)\n",
            "Requirement already satisfied: tzdata>=2022.7 in /usr/local/lib/python3.12/dist-packages (from pandas->nistchempy) (2025.2)\n",
            "Requirement already satisfied: charset_normalizer<4,>=2 in /usr/local/lib/python3.12/dist-packages (from requests->nistchempy) (3.4.3)\n",
            "Requirement already satisfied: idna<4,>=2.5 in /usr/local/lib/python3.12/dist-packages (from requests->nistchempy) (3.10)\n",
            "Requirement already satisfied: urllib3<3,>=1.21.1 in /usr/local/lib/python3.12/dist-packages (from requests->nistchempy) (2.5.0)\n",
            "Requirement already satisfied: certifi>=2017.4.17 in /usr/local/lib/python3.12/dist-packages (from requests->nistchempy) (2025.8.3)\n",
            "Requirement already satisfied: six>=1.5 in /usr/local/lib/python3.12/dist-packages (from python-dateutil>=2.8.2->pandas->nistchempy) (1.17.0)\n",
            "Requirement already satisfied: soupsieve>1.2 in /usr/local/lib/python3.12/dist-packages (from beautifulsoup4->bs4->nistchempy) (2.8)\n",
            "Requirement already satisfied: typing-extensions>=4.0.0 in /usr/local/lib/python3.12/dist-packages (from beautifulsoup4->bs4->nistchempy) (4.15.0)\n",
            "Downloading nistchempy-1.0.5-py3-none-any.whl (11.4 MB)\n",
            "\u001b[2K   \u001b[90m━━━━━━━━━━━━━━━━━━━━━━━━━━━━━━━━━━━━━━━━\u001b[0m \u001b[32m11.4/11.4 MB\u001b[0m \u001b[31m36.8 MB/s\u001b[0m eta \u001b[36m0:00:00\u001b[0m\n",
            "\u001b[?25hDownloading bs4-0.0.2-py2.py3-none-any.whl (1.2 kB)\n",
            "Installing collected packages: bs4, nistchempy\n",
            "Successfully installed bs4-0.0.2 nistchempy-1.0.5\n"
          ]
        }
      ]
    },
    {
      "cell_type": "code",
      "source": [
        "import nistchempy as nist\n",
        "import numpy as np\n",
        "import matplotlib.pyplot as plt"
      ],
      "metadata": {
        "id": "nHbKKoxpa4Mz"
      },
      "execution_count": 2,
      "outputs": []
    },
    {
      "cell_type": "code",
      "source": [
        "search_results1 = nist.run_search(identifier = 'ethane', search_type = 'name')\n",
        "search_results1"
      ],
      "metadata": {
        "colab": {
          "base_uri": "https://localhost:8080/"
        },
        "id": "H2pd0OSOcFn-",
        "outputId": "c15bdd56-e11b-4c21-edbc-e9e349b7f4cb"
      },
      "execution_count": 34,
      "outputs": [
        {
          "output_type": "execute_result",
          "data": {
            "text/plain": [
              "NistSearch(success=True, num_compounds=1, lost=False)"
            ]
          },
          "metadata": {},
          "execution_count": 34
        }
      ]
    },
    {
      "cell_type": "code",
      "source": [
        "search_results2 = nist.run_search(identifier = 'ethylene', search_type = 'name')\n",
        "search_results2"
      ],
      "metadata": {
        "id": "ih-kJecJrmdZ",
        "outputId": "5d53095c-a4f1-4dbc-c2b9-074c341718f1",
        "colab": {
          "base_uri": "https://localhost:8080/"
        }
      },
      "execution_count": 35,
      "outputs": [
        {
          "output_type": "execute_result",
          "data": {
            "text/plain": [
              "NistSearch(success=True, num_compounds=1, lost=False)"
            ]
          },
          "metadata": {},
          "execution_count": 35
        }
      ]
    },
    {
      "cell_type": "code",
      "source": [
        "search_results3 = nist.run_search(identifier = 'acetylene', search_type = 'name')\n",
        "search_results3"
      ],
      "metadata": {
        "id": "kwptfaS2rr4G",
        "outputId": "bcf8a0f5-6288-4db5-e876-90ac0b258afe",
        "colab": {
          "base_uri": "https://localhost:8080/"
        }
      },
      "execution_count": 36,
      "outputs": [
        {
          "output_type": "execute_result",
          "data": {
            "text/plain": [
              "NistSearch(success=True, num_compounds=1, lost=False)"
            ]
          },
          "metadata": {},
          "execution_count": 36
        }
      ]
    },
    {
      "cell_type": "code",
      "source": [
        "search_results1.compound_ids"
      ],
      "metadata": {
        "id": "33J5F3_1oF1C",
        "outputId": "d5f1bf2d-0461-4d83-f32c-090774a2cc83",
        "colab": {
          "base_uri": "https://localhost:8080/"
        }
      },
      "execution_count": 43,
      "outputs": [
        {
          "output_type": "execute_result",
          "data": {
            "text/plain": [
              "['C74840']"
            ]
          },
          "metadata": {},
          "execution_count": 43
        }
      ]
    },
    {
      "cell_type": "code",
      "source": [
        "search_results2.compound_ids"
      ],
      "metadata": {
        "id": "RBqTXl3Ur-E_",
        "outputId": "40621a97-a2ce-4b6e-c895-47f87b514c38",
        "colab": {
          "base_uri": "https://localhost:8080/"
        }
      },
      "execution_count": 40,
      "outputs": [
        {
          "output_type": "execute_result",
          "data": {
            "text/plain": [
              "['C74851']"
            ]
          },
          "metadata": {},
          "execution_count": 40
        }
      ]
    },
    {
      "cell_type": "code",
      "source": [
        "search_results3.compound_ids"
      ],
      "metadata": {
        "id": "UmHyR4WhsBVE",
        "outputId": "50f5186a-f457-4e9f-cd5a-b6c2d3ed40fd",
        "colab": {
          "base_uri": "https://localhost:8080/"
        }
      },
      "execution_count": 42,
      "outputs": [
        {
          "output_type": "execute_result",
          "data": {
            "text/plain": [
              "['C74862']"
            ]
          },
          "metadata": {},
          "execution_count": 42
        }
      ]
    },
    {
      "cell_type": "code",
      "source": [
        "dir(search_results2)"
      ],
      "metadata": {
        "colab": {
          "base_uri": "https://localhost:8080/"
        },
        "id": "L73DCpdXdhgN",
        "outputId": "c0063980-1afc-4201-91fe-226acf4c35c4"
      },
      "execution_count": 45,
      "outputs": [
        {
          "output_type": "execute_result",
          "data": {
            "text/plain": [
              "['__annotations__',\n",
              " '__class__',\n",
              " '__dataclass_fields__',\n",
              " '__dataclass_params__',\n",
              " '__delattr__',\n",
              " '__dict__',\n",
              " '__dir__',\n",
              " '__doc__',\n",
              " '__eq__',\n",
              " '__format__',\n",
              " '__ge__',\n",
              " '__getattribute__',\n",
              " '__getstate__',\n",
              " '__gt__',\n",
              " '__hash__',\n",
              " '__init__',\n",
              " '__init_subclass__',\n",
              " '__le__',\n",
              " '__lt__',\n",
              " '__match_args__',\n",
              " '__module__',\n",
              " '__ne__',\n",
              " '__new__',\n",
              " '__post_init__',\n",
              " '__reduce__',\n",
              " '__reduce_ex__',\n",
              " '__repr__',\n",
              " '__setattr__',\n",
              " '__sizeof__',\n",
              " '__str__',\n",
              " '__subclasshook__',\n",
              " '__weakref__',\n",
              " '_nist_response',\n",
              " '_request_config',\n",
              " '_save_response_page',\n",
              " 'compound_ids',\n",
              " 'compounds',\n",
              " 'load_found_compounds',\n",
              " 'lost',\n",
              " 'num_compounds',\n",
              " 'search_parameters',\n",
              " 'success']"
            ]
          },
          "metadata": {},
          "execution_count": 45
        }
      ]
    },
    {
      "cell_type": "code",
      "source": [
        "X1 = search_results1.compounds[0]\n",
        "X2 = search_results2.compounds[0]\n",
        "X3 = search_results3.compounds[0]\n"
      ],
      "metadata": {
        "id": "vCgHmOcydytX"
      },
      "execution_count": 47,
      "outputs": []
    },
    {
      "cell_type": "code",
      "source": [
        "! pip install jcamp\n",
        "import jcamp as jc"
      ],
      "metadata": {
        "colab": {
          "base_uri": "https://localhost:8080/"
        },
        "id": "kPX8_EOvbU3U",
        "outputId": "31c34eab-ec4e-4c58-f4cb-2263890914d7"
      },
      "execution_count": 48,
      "outputs": [
        {
          "output_type": "stream",
          "name": "stdout",
          "text": [
            "Requirement already satisfied: jcamp in /usr/local/lib/python3.12/dist-packages (1.2.2)\n",
            "Requirement already satisfied: numpy in /usr/local/lib/python3.12/dist-packages (from jcamp) (2.0.2)\n",
            "Requirement already satisfied: datetime in /usr/local/lib/python3.12/dist-packages (from jcamp) (5.5)\n",
            "Requirement already satisfied: zope.interface in /usr/local/lib/python3.12/dist-packages (from datetime->jcamp) (7.2)\n",
            "Requirement already satisfied: pytz in /usr/local/lib/python3.12/dist-packages (from datetime->jcamp) (2025.2)\n",
            "Requirement already satisfied: setuptools in /usr/local/lib/python3.12/dist-packages (from zope.interface->datetime->jcamp) (75.2.0)\n"
          ]
        }
      ]
    },
    {
      "cell_type": "code",
      "source": [
        "X3.get_ir_spectra()\n",
        "X3.ir_specs"
      ],
      "metadata": {
        "colab": {
          "base_uri": "https://localhost:8080/"
        },
        "id": "W2eCIDhTd4wi",
        "outputId": "99625f98-1bd8-48d6-f39b-d41a1358fdd6"
      },
      "execution_count": 55,
      "outputs": [
        {
          "output_type": "execute_result",
          "data": {
            "text/plain": [
              "[Spectrum(C74862, IR spectrum #0), Spectrum(C74862, IR spectrum #1)]"
            ]
          },
          "metadata": {},
          "execution_count": 55
        }
      ]
    },
    {
      "cell_type": "code",
      "source": [
        "X3.get_uv_spectra()\n",
        "X3.uv_specs"
      ],
      "metadata": {
        "colab": {
          "base_uri": "https://localhost:8080/"
        },
        "id": "JbpgMzP4hAkS",
        "outputId": "b99415d2-3a3f-449a-a16b-092d763c7057"
      },
      "execution_count": 61,
      "outputs": [
        {
          "output_type": "execute_result",
          "data": {
            "text/plain": [
              "[]"
            ]
          },
          "metadata": {},
          "execution_count": 61
        }
      ]
    },
    {
      "cell_type": "code",
      "source": [],
      "metadata": {
        "id": "YUCjEWLUd-Zr"
      },
      "execution_count": null,
      "outputs": []
    },
    {
      "cell_type": "code",
      "source": [
        "import os\n",
        "\n",
        "# Create a directory to save the spectra\n",
        "output_dir = 'nist_spectra'\n",
        "os.makedirs(output_dir, exist_ok=True)\n",
        "\n",
        "# Save the mass spectra to the directory\n",
        "X3.save_ir_spectra(output_dir)"
      ],
      "metadata": {
        "id": "7N-6m_WabUus"
      },
      "execution_count": 56,
      "outputs": []
    },
    {
      "cell_type": "code",
      "source": [
        "# Create a directory to save the spectra\n",
        "output_dir = 'nist_spectra'\n",
        "os.makedirs(output_dir, exist_ok=True)\n",
        "\n",
        "# Save the mass spectra to the directory\n",
        "X3.save_uv_spectra(output_dir)"
      ],
      "metadata": {
        "id": "wm9efAmCuq6m"
      },
      "execution_count": 62,
      "outputs": []
    },
    {
      "cell_type": "code",
      "source": [
        "spec_ir_1_1= jc.jcamp_readfile('/content/nist_spectra/C74840_IR_0.jdx')\n",
        "spec_ir_1_2= jc.jcamp_readfile('/content/nist_spectra/C74840_IR_1.jdx')\n",
        "spec_ir_2_1= jc.jcamp_readfile('/content/nist_spectra/C74851_IR_0.jdx')\n",
        "spec_ir_2_2= jc.jcamp_readfile('/content/nist_spectra/C74851_IR_1.jdx')\n",
        "spec_ir_2_3= jc.jcamp_readfile('/content/nist_spectra/C74851_IR_10.jdx')\n",
        "spec_ir_2_4= jc.jcamp_readfile('/content/nist_spectra/C74851_IR_11.jdx')\n",
        "spec_ir_2_5= jc.jcamp_readfile('/content/nist_spectra/C74851_IR_12.jdx')\n",
        "spec_uv_1_1= jc.jcamp_readfile('/content/nist_spectra/C74851_UV_0.jdx')\n",
        "spec_ir_3_1= jc.jcamp_readfile('/content/nist_spectra/C74862_IR_0.jdx')\n",
        "spec_ir_3_2= jc.jcamp_readfile('/content/nist_spectra/C74862_IR_1.jdx')"
      ],
      "metadata": {
        "id": "q3V5sYzxbUky"
      },
      "execution_count": 64,
      "outputs": []
    },
    {
      "cell_type": "code",
      "source": [],
      "metadata": {
        "id": "XkpulvDLf_4x"
      },
      "execution_count": null,
      "outputs": []
    },
    {
      "cell_type": "code",
      "source": [
        "fig, ax = plt.subplots(3,1,figsize=(10,10))\n",
        "ax[0].plot(spec_ir_1_1['x'],spec_ir_1_1['y']*-1, '-o',markersize=1.,label='IR_1')\n",
        "ax[0].plot(spec_ir_1_2['x'],spec_ir_1_2['y'],'-o',markersize=1.,label='IR_2')\n",
        "ax[1].plot(spec_ir_2_2['x'],spec_ir_2_2['y'],'-o',markersize=2.,label='IR_2')\n",
        "ax[1].plot(spec_ir_2_2['x'],spec_ir_2_2['y'],'-o',markersize=2.,label='IR_2')\n",
        "ax[1].plot(spec_ir_2_3['x'],spec_ir_2_3['y'],'-o',markersize=2.,label='IR_2')\n",
        "ax[1].plot(spec_ir_2_4['x'],spec_ir_2_4['y'],'-o',markersize=2.,label='IR_2')\n",
        "ax[1].plot(spec_ir_2_5['x'],spec_ir_2_5['y'],'-o',markersize=2.,label='IR_2')\n",
        "#ax[1].plot(spec_uv_1_1['x'],spec_uv_1_1['y'],'-o',markersize=2.,label='uv')\n",
        "ax[2].plot(spec_ir_3_1['x'],spec_ir_3_1['y']*-1,'-o',markersize=2.,label='IR_1')\n",
        "ax[2].plot(spec_ir_3_2['x'],spec_ir_3_2['y'],'-o',markersize=2.,label='IR_2')"
      ],
      "metadata": {
        "colab": {
          "base_uri": "https://localhost:8080/",
          "height": 847
        },
        "id": "EEAsnGNVfoGm",
        "outputId": "14346a35-90c8-4fdd-e080-4adda1d5f12f"
      },
      "execution_count": 75,
      "outputs": [
        {
          "output_type": "execute_result",
          "data": {
            "text/plain": [
              "[<matplotlib.lines.Line2D at 0x7d44a2316690>]"
            ]
          },
          "metadata": {},
          "execution_count": 75
        },
        {
          "output_type": "display_data",
          "data": {
            "text/plain": [
              "<Figure size 1000x1000 with 3 Axes>"
            ],
            "image/png": "[encoded data removed]"
          },
          "metadata": {}
        }
      ]
    },
    {
      "cell_type": "markdown",
      "source": [
        "<font color = 'red'> Use this text box to describe any trends you see along the series. A few sentences is fine."
      ],
      "metadata": {
        "id": "KVm1syl4Blv1"
      }
    },
    {
      "cell_type": "markdown",
      "source": [
        "##### <font color = 'red'> Series 2: methane, ethane, propane, butane, pentane </font>"
      ],
      "metadata": {
        "id": "ufwGv5jZAnUd"
      }
    },
    {
      "cell_type": "code",
      "source": [
        "# Use this code (and add as many extra code cells as you want in this section) to do the above task."
      ],
      "metadata": {
        "id": "Tk5zccosAnyt"
      },
      "execution_count": null,
      "outputs": []
    },
    {
      "cell_type": "markdown",
      "source": [
        "<font color = 'red'> Use this text box to describe any trends you see along the series. A few sentences is fine."
      ],
      "metadata": {
        "id": "qwwC0QhQBb00"
      }
    },
    {
      "cell_type": "markdown",
      "source": [
        "##### <font color = 'red'> Series 3: cyclopropane, cyclobutane, cyclopentane, cyclohexane, benzene </font>"
      ],
      "metadata": {
        "id": "dnQ5z3GqBMfN"
      }
    },
    {
      "cell_type": "code",
      "source": [
        "# Use this code (and add as many extra code cells as you want in this section) to do the above task."
      ],
      "metadata": {
        "id": "3kd4_wRGAof5"
      },
      "execution_count": null,
      "outputs": []
    },
    {
      "cell_type": "markdown",
      "source": [
        "<font color = 'red'> Use this text box to describe any trends you see along the series. A few sentences is fine."
      ],
      "metadata": {
        "id": "gqZqkIBjBnN0"
      }
    },
    {
      "cell_type": "markdown",
      "source": [
        "### Polymer Sorting for Recycling\n",
        "You can find data for this exercise at https://github.com/usnistgov/nir_corr_po . The accompanying publication (which is cool) can be found at https://doi.org/10.1021/acs.macromol.3c02290 . It is not necessary to read, but it may provide some context for your qualitative answers.  \n",
        "The following two exercises ask you to comment on the reproducibility of the measurements. Since we have not gone over any quantification principles in class yet, these may be purely qualitative for full credit."
      ],
      "metadata": {
        "id": "0B8zHVP4_hJ3"
      }
    },
    {
      "cell_type": "markdown",
      "source": [
        "##### <font color='red'> Assess the reproducibility of the measurement. </font>\n",
        "Pick a single polymer (same code (e.g. H0002)) and plot the 6 NIR spectra collected on a single axis. Comment on the qualitative reproducibility of the measurement."
      ],
      "metadata": {
        "id": "bqnER55kCFmT"
      }
    },
    {
      "cell_type": "code",
      "source": [
        "# code here; insert as many cells as you need"
      ],
      "metadata": {
        "id": "ZRVZ-Ah3CpGH"
      },
      "execution_count": null,
      "outputs": []
    },
    {
      "cell_type": "markdown",
      "source": [
        "<font color = red> Qualitative answer in this text box."
      ],
      "metadata": {
        "id": "lcaejH9rCqZy"
      }
    },
    {
      "cell_type": "markdown",
      "source": [
        "##### <font color='red'> Assess the uniformity of a single polymer's NIR spectrum between different suppliers. </font>\n",
        "Plot the data from each type of LDPE on the same axis - sample codes S0081, S0024, N1476, N1473, and H0002. Comment on the qualitative agreement between spectra and if it would be easy to use these to identify LDPE in a mixed recycling stream."
      ],
      "metadata": {
        "id": "PkVBIXxkCsxy"
      }
    },
    {
      "cell_type": "code",
      "source": [
        "# code here; insert as many cells as you need"
      ],
      "metadata": {
        "id": "c9iQBo8JDrqp"
      },
      "execution_count": null,
      "outputs": []
    },
    {
      "cell_type": "markdown",
      "source": [
        "<font color = 'red'> Qualitative answer in this box."
      ],
      "metadata": {
        "id": "K0IsXgEwDmrx"
      }
    },
    {
      "cell_type": "markdown",
      "source": [
        "## Part 2: Reflecting on FAIR Data principles.\n",
        "No code!"
      ],
      "metadata": {
        "id": "zhxsIhcZ5iGk"
      }
    },
    {
      "cell_type": "markdown",
      "source": [
        "## Part 3: Case study - an OFET database\n",
        "No code!"
      ],
      "metadata": {
        "id": "AGRquKSv5hpc"
      }
    }
  ]
}