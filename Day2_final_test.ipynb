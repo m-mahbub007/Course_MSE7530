{
  "nbformat": 4,
  "nbformat_minor": 0,
  "metadata": {
    "colab": {
      "provenance": [],
      "collapsed_sections": [
        "oJennwWOG2_4",
        "bLTL44meKhqG",
        "b-MpsoxeNOvn",
        "ufOgNC5ZWkaN",
        "CcfLuHEd8yzD",
        "PvTGghHoaEGv"
      ],
      "include_colab_link": true
    },
    "kernelspec": {
      "name": "python3",
      "display_name": "Python 3"
    },
    "language_info": {
      "name": "python"
    }
  },
  "cells": [
    {
      "cell_type": "markdown",
      "metadata": {
        "id": "view-in-github",
        "colab_type": "text"
      },
      "source": [
        "<a href=\"https://colab.research.google.com/github/m-mahbub007/Course_MSE7530/blob/main/Day2_final_test.ipynb\" target=\"_parent\"><img src=\"https://colab.research.google.com/assets/colab-badge.svg\" alt=\"Open In Colab\"/></a>"
      ]
    },
    {
      "cell_type": "markdown",
      "source": [
        "# Lecture 2: Getting Started in Colab, Github, and Python"
      ],
      "metadata": {
        "id": "V6Lic-4YGTbJ"
      }
    },
    {
      "cell_type": "markdown",
      "source": [
        "The first thing we need to do is set up an environment where we can all use common files. I will primarily write notebooks so that you are directly using the public Github repository. However, later on, you may decide to keep files on your Google Drive and use them from there."
      ],
      "metadata": {
        "id": "TwnN-SATGoH2"
      }
    },
    {
      "cell_type": "markdown",
      "source": [
        "## Example 1 : Getting Around and Getting Started"
      ],
      "metadata": {
        "id": "mtqpNL9tNJdo"
      }
    },
    {
      "cell_type": "markdown",
      "source": [
        "### Method 1: Pulling Files from the Class Github Repo"
      ],
      "metadata": {
        "id": "oJennwWOG2_4"
      }
    },
    {
      "cell_type": "code",
      "source": [
        "!git clone https://github.com/cbishop4/MSE7530.git # this will clone everything from my public GH into your files"
      ],
      "metadata": {
        "id": "i9ahsn2ZG2PT",
        "outputId": "43b11711-ea73-4985-daef-124e670f76eb",
        "colab": {
          "base_uri": "https://localhost:8080/"
        }
      },
      "execution_count": 2,
      "outputs": [
        {
          "output_type": "stream",
          "name": "stdout",
          "text": [
            "Cloning into 'MSE7530'...\n",
            "remote: Enumerating objects: 91, done.\u001b[K\n",
            "remote: Counting objects: 100% (91/91), done.\u001b[K\n",
            "remote: Compressing objects: 100% (81/81), done.\u001b[K\n",
            "remote: Total 91 (delta 31), reused 0 (delta 0), pack-reused 0 (from 0)\u001b[K\n",
            "Receiving objects: 100% (91/91), 6.03 MiB | 9.07 MiB/s, done.\n",
            "Resolving deltas: 100% (31/31), done.\n"
          ]
        }
      ]
    },
    {
      "cell_type": "markdown",
      "source": [
        "This will make files available. After you run this, the files will become available in the sidebar, like in this image![7530_1.png](data:image/png;base64,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)"
      ],
      "metadata": {
        "id": "eIXBTit_Hbzg"
      }
    },
    {
      "cell_type": "markdown",
      "source": [
        "If you ever need to reload the GH Repo for some reason (like if I'm changing it while the class is working on a homework assignment), run the following cell:"
      ],
      "metadata": {
        "id": "2zsfOGZWHQ0I"
      }
    },
    {
      "cell_type": "code",
      "source": [
        "!rm -rf /content/MSE7530/"
      ],
      "metadata": {
        "id": "QoL2wubnHQFS"
      },
      "execution_count": 3,
      "outputs": []
    },
    {
      "cell_type": "markdown",
      "source": [
        "And then re-run the git clone."
      ],
      "metadata": {
        "id": "fXAsIn7tIPUe"
      }
    },
    {
      "cell_type": "code",
      "source": [
        "!git clone https://github.com/cbishop4/MSE7530.git"
      ],
      "metadata": {
        "id": "-OyhGebhE10R",
        "outputId": "3b5b582c-4625-4cac-9578-45098a2e13c5",
        "colab": {
          "base_uri": "https://localhost:8080/"
        }
      },
      "execution_count": 4,
      "outputs": [
        {
          "output_type": "stream",
          "name": "stdout",
          "text": [
            "Cloning into 'MSE7530'...\n",
            "remote: Enumerating objects: 91, done.\u001b[K\n",
            "remote: Counting objects: 100% (91/91), done.\u001b[K\n",
            "remote: Compressing objects: 100% (81/81), done.\u001b[K\n",
            "remote: Total 91 (delta 31), reused 0 (delta 0), pack-reused 0 (from 0)\u001b[K\n",
            "Receiving objects: 100% (91/91), 6.03 MiB | 8.88 MiB/s, done.\n",
            "Resolving deltas: 100% (31/31), done.\n"
          ]
        }
      ]
    },
    {
      "cell_type": "markdown",
      "source": [
        "### Method 2: Mounting your Google Drive\n",
        "This will be helpful when you are working with your own data in various projects throughout this class. Simply run the following cell. It will prompt you to confirm that you want to connect to your Google account, and may require you to log in."
      ],
      "metadata": {
        "id": "bLTL44meKhqG"
      }
    },
    {
      "cell_type": "code",
      "source": [
        "from google.colab import drive\n",
        "drive.mount('/content/drive')"
      ],
      "metadata": {
        "id": "MQcD-5xsKr7q",
        "outputId": "e4371ae1-9c5f-4a69-f4c9-40b5688227ed",
        "colab": {
          "base_uri": "https://localhost:8080/"
        }
      },
      "execution_count": 1,
      "outputs": [
        {
          "output_type": "stream",
          "name": "stdout",
          "text": [
            "Mounted at /content/drive\n"
          ]
        }
      ]
    },
    {
      "cell_type": "markdown",
      "source": [
        "To grab files and content to work with, hover over a file, click on the 3 dots that appear to the right, and hit \"copy path\". Paste this into a code cell to work with the file."
      ],
      "metadata": {
        "id": "jzb_c4oKK-A2"
      }
    },
    {
      "cell_type": "code",
      "source": [
        "'/content/drive/MyDrive/7530_Docs/181119_PeakFitting.ipynb' # example from Camille's personal drive"
      ],
      "metadata": {
        "id": "_gm2gyn_LHVw"
      },
      "execution_count": null,
      "outputs": []
    },
    {
      "cell_type": "markdown",
      "source": [
        "### This is the end of the first example for today. Please return your attention to the powerpoint."
      ],
      "metadata": {
        "id": "c5zQdR6TNC8K"
      }
    },
    {
      "cell_type": "markdown",
      "source": [
        "## Example 2 : Encouraged Use of Gemini\n",
        "Goal: Less time teaching Python syntax, more time learning science"
      ],
      "metadata": {
        "id": "b-MpsoxeNOvn"
      }
    },
    {
      "cell_type": "markdown",
      "source": [
        "Let's start with a simple example, in which we can use our Python notebook to do some simple math."
      ],
      "metadata": {
        "id": "hno0dLgf7BUo"
      }
    },
    {
      "cell_type": "code",
      "source": [
        "7 + 8"
      ],
      "metadata": {
        "id": "vuWwAFJmjJKM",
        "outputId": "f6bb6bab-742a-4147-aebc-b4b4425a465a",
        "colab": {
          "base_uri": "https://localhost:8080/"
        }
      },
      "execution_count": 5,
      "outputs": [
        {
          "output_type": "execute_result",
          "data": {
            "text/plain": [
              "15"
            ]
          },
          "metadata": {},
          "execution_count": 5
        }
      ]
    },
    {
      "cell_type": "markdown",
      "source": [
        "Above we did some simple arithmetic. Now, let's introduce an error to see how we can use Gemini's error explainer. After running this cell, hit \"explain error\"."
      ],
      "metadata": {
        "id": "IQaxeyzr7uUJ"
      }
    },
    {
      "cell_type": "code",
      "source": [
        "7 + 9i"
      ],
      "metadata": {
        "id": "9IQdHnzE7_HZ"
      },
      "execution_count": null,
      "outputs": []
    },
    {
      "cell_type": "markdown",
      "source": [
        "What happened here? Now try this one."
      ],
      "metadata": {
        "id": "LhlHeIl28P5-"
      }
    },
    {
      "cell_type": "code",
      "source": [
        "7 + 8'"
      ],
      "metadata": {
        "id": "silgObw77s7y"
      },
      "execution_count": null,
      "outputs": []
    },
    {
      "cell_type": "markdown",
      "source": [
        "### Lesson:\n",
        "The error explainer is powerful, but is not always right. Always check the plain language Gemini gives in the error explainer and see if it is answering the problem you mean to solve"
      ],
      "metadata": {
        "id": "uCSMc-dD8fw5"
      }
    },
    {
      "cell_type": "markdown",
      "source": [
        "## Basic Python Skill 1 : Plotting Data"
      ],
      "metadata": {
        "id": "ufOgNC5ZWkaN"
      }
    },
    {
      "cell_type": "markdown",
      "source": [
        "The best way to make sure you're working with the right thing in Python is to plot your data. The most basic and widely used library to do this is Matplotlib. We start by importing the package (note: this is one of the 2 - 5 lines on the basic import cell that starts almost every Python notebook or script)"
      ],
      "metadata": {
        "id": "5yzOreIsWsOu"
      }
    },
    {
      "cell_type": "code",
      "source": [
        "import matplotlib.pyplot as plt"
      ],
      "metadata": {
        "id": "NwOPDo9vWslK"
      },
      "execution_count": null,
      "outputs": []
    },
    {
      "cell_type": "markdown",
      "source": [
        "We will start with a dataset of random noise that I generated using AI. (Prompt: \"Generate a dataset of random but gradually increasing noise, with time as the independent variable and intensity as the dependent variable\". The resulting code is shown below)"
      ],
      "metadata": {
        "id": "GWApwFOkXQPt"
      }
    },
    {
      "cell_type": "code",
      "source": [
        "time = np.linspace(0, 10, 100)  # Time from 0 to 10\n",
        "intensity = time * 2 + np.random.normal(0, 1, 100)  # Gradually increasing intensity with random noise"
      ],
      "metadata": {
        "id": "4CNNhiVyWs80"
      },
      "execution_count": null,
      "outputs": []
    },
    {
      "cell_type": "markdown",
      "source": [
        "There are two slightly different ways to plot in Matplotlib, and they have annoyingly different syntaxes. I will show you the first way here, which we will generally not use:"
      ],
      "metadata": {
        "id": "0RAyjLAUXwMt"
      }
    },
    {
      "cell_type": "code",
      "source": [
        "plt.plot(time, intensity)"
      ],
      "metadata": {
        "id": "PnSAJSPKWsxs"
      },
      "execution_count": null,
      "outputs": []
    },
    {
      "cell_type": "markdown",
      "source": [
        "However, a way to make more customizable plots is through the \"subplots\" module. This allows you to put multiple graphs in the same object, and lets you define figure and axes objects that can be modified later. Here, what we are technically doing is using a plot() **method** on an axes **object** which we defined when we called the initial plt.subplots().\n",
        "Documentation: https://matplotlib.org/stable/api/_as_gen/matplotlib.pyplot.subplots.html\n",
        "https://matplotlib.org/stable/api/_as_gen/matplotlib.axes.Axes.plot.html"
      ],
      "metadata": {
        "id": "qdgHsOyHYHHT"
      }
    },
    {
      "cell_type": "code",
      "source": [
        "fig, ax = plt.subplots()"
      ],
      "metadata": {
        "id": "JQ4hFnhuX9V_"
      },
      "execution_count": null,
      "outputs": []
    },
    {
      "cell_type": "code",
      "source": [
        "fig, ax = plt.subplots()\n",
        "ax.plot(time, intensity)"
      ],
      "metadata": {
        "id": "0mositqGYVr-"
      },
      "execution_count": null,
      "outputs": []
    },
    {
      "cell_type": "code",
      "source": [
        "# now, let's dress this up a bit so we have a presentable graph\n",
        "fig, ax = plt.subplots()\n",
        "ax.plot(time, intensity,'-o',markersize=2, )\n",
        "ax.set_xlabel('Time (s)')\n",
        "ax.set_ylabel('Intensity')\n",
        "ax.set_title('Random Noise Over Time')"
      ],
      "metadata": {
        "id": "wk-zArxPYV2H"
      },
      "execution_count": null,
      "outputs": []
    },
    {
      "cell_type": "markdown",
      "source": [
        "At its most basic, that is how you make a plot. For now, I will not have requirements about font sizes, colors, etc. The only requirements for right now are that axes are labeled. **However**, in later units of the class we will cover how to make graphs accessible and clear.\n",
        "To learn how to change other aspects of your graph, you can look at documentation. You can also hit shift+tab while typing out a function, and it will give you information about the arguments you can include."
      ],
      "metadata": {
        "id": "Dj71MWmDY2Zj"
      }
    },
    {
      "cell_type": "markdown",
      "source": [
        "#### <font color='green'>**I would like you to have a basic idea of how to plot data. However, the syntax can get annoying, and a nicely made plot can have near 40 lines of code specifying every detail. If you want to use built-in plotting routines within Colab notebooks, unless prohibited by a specific problem, you may.**</font>"
      ],
      "metadata": {
        "id": "K0W30yC3a1c3"
      }
    },
    {
      "cell_type": "markdown",
      "source": [
        "## Example 3 : Querying the NIST Webbook\n",
        "In this example we'll have you start writing some code. Anywhere <font color='red'>where the font is red, you need to write your own code in the next box</font>"
      ],
      "metadata": {
        "id": "CcfLuHEd8yzD"
      }
    },
    {
      "cell_type": "markdown",
      "source": [
        "### Part 1 : Prepare our data access\n",
        "NIST, (the National Institute of Standards and Technology), publishes standard reference data and makes standard reference materials. They maintain the NIST Chemistry WebBook at https://webbook.nist.gov/chemistry/. It can be searched within the webpage. However, we will use an automated system, nistchempy, to **query** the database. https://pypi.org/project/nistchempy/ . Currently, NistChemPy enables the extraction of basic compound properties as well as IR, THz, MS, and UV-Vis spectra and gas chromatography data (which is only a subset of all the information available on the webpage)"
      ],
      "metadata": {
        "id": "HYo68gc89b0t"
      }
    },
    {
      "cell_type": "code",
      "source": [
        "! pip install nistchempy"
      ],
      "metadata": {
        "id": "haeeHfu5-H8J"
      },
      "execution_count": null,
      "outputs": []
    },
    {
      "cell_type": "code",
      "source": [
        "import nistchempy as nist\n",
        "import numpy as np\n",
        "import matplotlib.pyplot as plt"
      ],
      "metadata": {
        "id": "o4IX0fnp-eqR"
      },
      "execution_count": null,
      "outputs": []
    },
    {
      "cell_type": "markdown",
      "source": [
        "Let's look up the data for eight molecules: (cyclo)pentane, (cyclo)hexane, (cyclo)heptane, benzene, and toluene. We will start with hexane."
      ],
      "metadata": {
        "id": "6gHgtrVbteH0"
      }
    },
    {
      "cell_type": "markdown",
      "source": [
        "#### Inspecting the package\n",
        "We can start by typing in nist. and pausing. This will show a list of all the modules and functions included in the package. The three ways to find out exactly what all of these do are 1. Read the documentation (which is just okay for this package), 2. Download the source code and read through the different modules (thorough, but time-consuming), or 3. Play around"
      ],
      "metadata": {
        "id": "4sx8W0c_vk6T"
      }
    },
    {
      "cell_type": "code",
      "source": [],
      "metadata": {
        "id": "ZGvST09Nvtqo"
      },
      "execution_count": null,
      "outputs": []
    },
    {
      "cell_type": "code",
      "source": [
        "nist.print_search_parameters"
      ],
      "metadata": {
        "id": "KGc4lO5EwKou"
      },
      "execution_count": null,
      "outputs": []
    },
    {
      "cell_type": "code",
      "source": [
        "nist.print_search_parameters()"
      ],
      "metadata": {
        "id": "jP7H4_YzwQfv"
      },
      "execution_count": null,
      "outputs": []
    },
    {
      "cell_type": "code",
      "source": [
        "nist.get_all_data"
      ],
      "metadata": {
        "id": "X9mTU7hiwSnF"
      },
      "execution_count": null,
      "outputs": []
    },
    {
      "cell_type": "code",
      "source": [
        "nist.get_all_data()"
      ],
      "metadata": {
        "id": "MAAqKO1zwWme"
      },
      "execution_count": null,
      "outputs": []
    },
    {
      "cell_type": "code",
      "source": [
        "nist.run_search"
      ],
      "metadata": {
        "id": "QRKJEvrQwh45"
      },
      "execution_count": null,
      "outputs": []
    },
    {
      "cell_type": "markdown",
      "source": [
        "### Part 2: Initial search: A single molecule, hexane, using what we see *above*"
      ],
      "metadata": {
        "id": "9wtKLuhluUx2"
      }
    },
    {
      "cell_type": "code",
      "source": [
        "search_results = nist.run_search(identifier = 'hexane', search_type = 'name')\n",
        "search_results"
      ],
      "metadata": {
        "id": "v2B0ep-c-e1U"
      },
      "execution_count": null,
      "outputs": []
    },
    {
      "cell_type": "code",
      "source": [
        "s_wild = nist.run_search(identifier = 'hexane*', search_type = 'name')\n",
        "s_wild"
      ],
      "metadata": {
        "id": "12dpU7pQw9EJ"
      },
      "execution_count": null,
      "outputs": []
    },
    {
      "cell_type": "markdown",
      "source": [
        "We can learn more about what our search contains by looking at its directory"
      ],
      "metadata": {
        "id": "Ryyq952UuQHb"
      }
    },
    {
      "cell_type": "code",
      "source": [
        "dir(search_results)"
      ],
      "metadata": {
        "id": "31UjnBAO-e7Q"
      },
      "execution_count": null,
      "outputs": []
    },
    {
      "cell_type": "markdown",
      "source": [
        "Generally, anything that starts with underscores (__) are not going to be very useful. Therefore, this leaves us with a few things that could be useful."
      ],
      "metadata": {
        "id": "YWIc0KPzu2Nr"
      }
    },
    {
      "cell_type": "code",
      "source": [
        "search_results.compound_ids"
      ],
      "metadata": {
        "id": "6vDUF7Bp-8w8"
      },
      "execution_count": null,
      "outputs": []
    },
    {
      "cell_type": "code",
      "source": [
        "search_results.compounds"
      ],
      "metadata": {
        "id": "8IOGMU34vJXC"
      },
      "execution_count": null,
      "outputs": []
    },
    {
      "cell_type": "markdown",
      "source": [
        "Despite there only being one compound, the program still thinks of this as a list, so if we want to index the first compound, we need to index it"
      ],
      "metadata": {
        "id": "5KVxHcGBxVhj"
      }
    },
    {
      "cell_type": "code",
      "source": [
        "X = search_results.compounds[0]\n",
        "X"
      ],
      "metadata": {
        "id": "MRWZQrME-87g"
      },
      "execution_count": null,
      "outputs": []
    },
    {
      "cell_type": "markdown",
      "source": [
        "We can then use a built-in method to get the IR spectra for our compound."
      ],
      "metadata": {
        "id": "huo-g653xsBe"
      }
    },
    {
      "cell_type": "code",
      "source": [
        "X.get_ir_spectra()\n",
        "X.ir_specs"
      ],
      "metadata": {
        "id": "RibrGkou-8-a"
      },
      "execution_count": null,
      "outputs": []
    },
    {
      "cell_type": "code",
      "source": [
        "X.ir_specs[0].jdx_text"
      ],
      "metadata": {
        "id": "2Frp8kcGx5Nm"
      },
      "execution_count": null,
      "outputs": []
    },
    {
      "cell_type": "markdown",
      "source": [
        "Spectra in this format are saved as jdx_text files, which is a standardized way to share spectra. There may be a better way to do this, but in order to interpret this, we need a package called \"jdcamp\" that works with these files"
      ],
      "metadata": {
        "id": "qAbeyR9PyJ02"
      }
    },
    {
      "cell_type": "markdown",
      "source": [
        "### Part 3 : Getting jdcamp to interpret the jdx files"
      ],
      "metadata": {
        "id": "s3nFCGw_yU8y"
      }
    },
    {
      "cell_type": "code",
      "source": [
        "! pip install jcamp\n",
        "import jcamp as jc"
      ],
      "metadata": {
        "id": "3YKyk93px5RQ"
      },
      "execution_count": null,
      "outputs": []
    },
    {
      "cell_type": "markdown",
      "source": [
        "We're going to set up a directory for you to store your spectra. Here we will save them and read them."
      ],
      "metadata": {
        "id": "bPH0D-SFyhm4"
      }
    },
    {
      "cell_type": "code",
      "source": [
        "import os\n",
        "\n",
        "# Create a directory to save the spectra\n",
        "output_dir = 'nist_spectra'\n",
        "os.makedirs(output_dir, exist_ok=True)\n",
        "\n",
        "# Save the mass spectra to the directory\n",
        "X.save_ir_spectra(output_dir)"
      ],
      "metadata": {
        "id": "ld_Fi2ejBW0Q"
      },
      "execution_count": null,
      "outputs": []
    },
    {
      "cell_type": "markdown",
      "source": [
        "If you check your files on the left, you'll see a directory called \"nist_spectra\" that now holds the 3 IR spectra. Note that it saves them by the NIST compound reference code. Let's now use the jcamp function to read these out. To get the proper file path, click on the 3 dots next to the file and \"Copy Path\""
      ],
      "metadata": {
        "id": "ShYlttsKyyse"
      }
    },
    {
      "cell_type": "code",
      "source": [
        "spec1 = jc.jcamp_readfile('/content/nist_spectra/C110543_IR_0.jdx')\n",
        "spec2 = jc.jcamp_readfile('/content/nist_spectra/C110543_IR_1.jdx')\n",
        "spec3 = jc.jcamp_readfile('/content/nist_spectra/C110543_IR_2.jdx')"
      ],
      "metadata": {
        "id": "eG42h7hZCIw8"
      },
      "execution_count": null,
      "outputs": []
    },
    {
      "cell_type": "markdown",
      "source": [
        "### Part 4: Plotting and Examining Data"
      ],
      "metadata": {
        "id": "5c0PzZA021Iz"
      }
    },
    {
      "cell_type": "markdown",
      "source": [
        "Let's look at a spectrum."
      ],
      "metadata": {
        "id": "7D_nEmauzQeF"
      }
    },
    {
      "cell_type": "code",
      "source": [
        "spec1"
      ],
      "metadata": {
        "id": "L9CESYGWzg86"
      },
      "execution_count": null,
      "outputs": []
    },
    {
      "cell_type": "markdown",
      "source": [
        "Let's plot our 3 spectra."
      ],
      "metadata": {
        "id": "yQAqAaDpzjun"
      }
    },
    {
      "cell_type": "code",
      "source": [
        "fig, ax = plt.subplots()\n",
        "ax.plot(spec1['x'],spec1['y'],label='spec1')\n",
        "ax.plot(spec2['x'],spec2['y'],label='spec2')\n",
        "ax.plot(spec3['x'],spec3['y'],label='spec3')\n",
        "ax.legend()"
      ],
      "metadata": {
        "id": "7IlZmVwqDzr9"
      },
      "execution_count": null,
      "outputs": []
    },
    {
      "cell_type": "markdown",
      "source": [
        "We can see that one of these spectra is not like the others. Why? <font color='red'> Use the metadata in each of the spec files to figure it out. </font> (You can add more code boxes if you need)"
      ],
      "metadata": {
        "id": "pQmTdADjzyZL"
      }
    },
    {
      "cell_type": "code",
      "source": [],
      "metadata": {
        "id": "I6edDzMp0G5T"
      },
      "execution_count": null,
      "outputs": []
    },
    {
      "cell_type": "code",
      "source": [],
      "metadata": {
        "id": "E3UKIvo10Gv5"
      },
      "execution_count": null,
      "outputs": []
    },
    {
      "cell_type": "code",
      "source": [],
      "metadata": {
        "id": "SY6SYClK0Gmt"
      },
      "execution_count": null,
      "outputs": []
    },
    {
      "cell_type": "code",
      "source": [],
      "metadata": {
        "id": "dJ-Vreks0GcZ"
      },
      "execution_count": null,
      "outputs": []
    },
    {
      "cell_type": "code",
      "source": [],
      "metadata": {
        "id": "4KHE8xDi0GRa"
      },
      "execution_count": null,
      "outputs": []
    },
    {
      "cell_type": "markdown",
      "source": [
        "Now that we've figured them out, let's try representing them in two different ways. For one of these, we will transform the spectra so that they all fit on the same axis. For the other, we will plot on two different axes."
      ],
      "metadata": {
        "id": "QcdWQ2Qi0M-n"
      }
    },
    {
      "cell_type": "markdown",
      "source": [
        "#### Case 1: Transform spectra"
      ],
      "metadata": {
        "id": "TbuUhfNM0eNz"
      }
    },
    {
      "cell_type": "code",
      "source": [
        "fig, ax = plt.subplots()\n",
        "ax.plot(spec1['x'],spec1['y'],label='spec1')\n",
        "ax.plot(spec2['x'],spec2['y']*-1,label='spec2')\n",
        "ax.plot(spec3['x'],spec3['y']*-1,label='spec3')\n",
        "ax.legend()\n",
        "ax.set_xlabel('Wavenumber (cm^-1)')\n",
        "ax.set_ylabel('Intensity (a.u., adjusted)')"
      ],
      "metadata": {
        "id": "aeF7ad4xFW1M"
      },
      "execution_count": null,
      "outputs": []
    },
    {
      "cell_type": "markdown",
      "source": [
        "Task: <font color='red'> Play around with the scale factors on the y data to make a more presentable graph."
      ],
      "metadata": {
        "id": "UtLOihQs1HBR"
      }
    },
    {
      "cell_type": "code",
      "source": [],
      "metadata": {
        "id": "3n-ZlCr603GH"
      },
      "execution_count": null,
      "outputs": []
    },
    {
      "cell_type": "code",
      "source": [],
      "metadata": {
        "id": "rTzV6696FND3"
      },
      "execution_count": null,
      "outputs": []
    },
    {
      "cell_type": "code",
      "source": [],
      "metadata": {
        "id": "uHCse8yF1TP9"
      },
      "execution_count": null,
      "outputs": []
    },
    {
      "cell_type": "markdown",
      "source": [
        "#### Case 2: Preserve data originality by plotting on two axes."
      ],
      "metadata": {
        "id": "Fs7PznFD1USI"
      }
    },
    {
      "cell_type": "code",
      "source": [
        "fig, ax = plt.subplots(2,1,sharex=True)\n",
        "ax[0].plot(spec1['x'],spec1['y'],label='spec1')\n",
        "ax[1].plot(spec2['x'],spec2['y'],label='spec2')\n",
        "ax[1].plot(spec3['x'],spec3['y'],label='spec3')\n",
        "for a in ax:\n",
        "  a.legend()\n",
        "  a.set_xlabel('Wavenumber (cm^-1)')\n",
        "  a.set_ylabel('Intensity (a.u., adjusted)')"
      ],
      "metadata": {
        "id": "vrBBNW-ECIYF"
      },
      "execution_count": null,
      "outputs": []
    },
    {
      "cell_type": "markdown",
      "source": [
        "### Part 5: Your turn: <font color='red'> Do this for cyclohexane, and compare the spectra for hexane and cyclohexane."
      ],
      "metadata": {
        "id": "hN-oOeZt1uAp"
      }
    },
    {
      "cell_type": "code",
      "source": [],
      "metadata": {
        "id": "Tmb7vyjm1tgI"
      },
      "execution_count": null,
      "outputs": []
    },
    {
      "cell_type": "code",
      "source": [],
      "metadata": {
        "id": "u5DqDDFU1tcs"
      },
      "execution_count": null,
      "outputs": []
    },
    {
      "cell_type": "code",
      "source": [],
      "metadata": {
        "id": "GPIcnCSm1tZK"
      },
      "execution_count": null,
      "outputs": []
    },
    {
      "cell_type": "code",
      "source": [],
      "metadata": {
        "id": "ZPV-LaUq1tVp"
      },
      "execution_count": null,
      "outputs": []
    },
    {
      "cell_type": "code",
      "source": [],
      "metadata": {
        "id": "18nd7W0B1tSS"
      },
      "execution_count": null,
      "outputs": []
    },
    {
      "cell_type": "code",
      "source": [],
      "metadata": {
        "id": "xnjFNrcF1tO4"
      },
      "execution_count": null,
      "outputs": []
    },
    {
      "cell_type": "code",
      "source": [],
      "metadata": {
        "id": "aeN3atz11tLq"
      },
      "execution_count": null,
      "outputs": []
    },
    {
      "cell_type": "code",
      "source": [],
      "metadata": {
        "id": "ybcdoqsL1tH-"
      },
      "execution_count": null,
      "outputs": []
    },
    {
      "cell_type": "code",
      "source": [],
      "metadata": {
        "id": "9ul6__J-1s9h"
      },
      "execution_count": null,
      "outputs": []
    },
    {
      "cell_type": "code",
      "source": [],
      "metadata": {
        "id": "dNwYpouM1swg"
      },
      "execution_count": null,
      "outputs": []
    },
    {
      "cell_type": "markdown",
      "source": [],
      "metadata": {
        "id": "lSFGjzGV1sAj"
      }
    },
    {
      "cell_type": "markdown",
      "source": [
        "## Basic Python Skill 2 : Reading .csv files"
      ],
      "metadata": {
        "id": "PvTGghHoaEGv"
      }
    },
    {
      "cell_type": "markdown",
      "source": [
        "Data is often stored and shared as csv (comma separated value) files. You may also encounter files with different **delimiters**. A delimiter is what breaks up distinct entries. Some common delimiters besides commas are space (' ') or tab ('\\t').\n",
        "Pandas is the package which we use to read .csv files and turn them into **dataframes**. Dataframes are tables, somewhat analogous to excel files, that hold data. While this is new for me, Colab has extra functonalities that pop up when you have a dataframe.\n",
        "This is a more finicky file than you will encounter in the first homework assignment."
      ],
      "metadata": {
        "id": "A9NsoGc0aNGs"
      }
    },
    {
      "cell_type": "code",
      "source": [
        "import pandas as pd # this is quite often done at the beginning of a notebook, because it is used so frequently"
      ],
      "metadata": {
        "id": "fZhJpxJxclfD"
      },
      "execution_count": null,
      "outputs": []
    },
    {
      "cell_type": "code",
      "source": [
        "loaded_csv = pd.read_csv('/content/MSE7530/sampledata/Dynamic_1_D10_enthalpy_2kmin.csv', encoding='unicode_escape')"
      ],
      "metadata": {
        "id": "20AiEIRAcmAW"
      },
      "execution_count": null,
      "outputs": []
    },
    {
      "cell_type": "markdown",
      "source": [
        "Here, our issue is that the data file has a bunch of information at the top. In the class github, download the file and open it in excel. What does it look like?"
      ],
      "metadata": {
        "id": "TZTdAdsvdunV"
      }
    },
    {
      "cell_type": "code",
      "source": [
        "loaded_csv = pd.read_csv('/content/MSE7530/sampledata/Dynamic_1_D10_enthalpy_2kmin.csv', encoding='unicode_escape',header=38),#header=40)"
      ],
      "metadata": {
        "id": "s3D1qbRAcl28"
      },
      "execution_count": null,
      "outputs": []
    },
    {
      "cell_type": "code",
      "source": [
        "loaded_csv"
      ],
      "metadata": {
        "id": "D3mCg_x7eXYc"
      },
      "execution_count": null,
      "outputs": []
    },
    {
      "cell_type": "markdown",
      "source": [
        "We still have a problem here; it didn't make a dataframe. When you inspect, it looks like the file is actually delimited by semicolons. To fix this, we can explicitly specify the delimiter when we call read_csv"
      ],
      "metadata": {
        "id": "njcbN_zIeb6e"
      }
    },
    {
      "cell_type": "code",
      "source": [
        "loaded_csv = pd.read_csv('/content/MSE7530/sampledata/Dynamic_1_D10_enthalpy_2kmin.csv', encoding='unicode_escape',header=38,delimiter=';'),#header=40)"
      ],
      "metadata": {
        "id": "I6Tnrlt0cltO"
      },
      "execution_count": null,
      "outputs": []
    },
    {
      "cell_type": "code",
      "source": [
        "loaded_csv"
      ],
      "metadata": {
        "id": "4luU7XcAepZH"
      },
      "execution_count": null,
      "outputs": []
    },
    {
      "cell_type": "code",
      "source": [
        "loaded_csv[0]"
      ],
      "metadata": {
        "id": "t1ZuWQ55euNR"
      },
      "execution_count": null,
      "outputs": []
    },
    {
      "cell_type": "markdown",
      "source": [
        "We now have a dataframe. <font color='red'>Plot the column \"DSC\" vs the \"temp\" column.</font>"
      ],
      "metadata": {
        "id": "bxG9ky9ifDK1"
      }
    },
    {
      "cell_type": "code",
      "source": [
        "plt.plot(loaded_csv[0]['##Temp./C'], loaded_csv[0]['DSC/(mW/mg)'],'o',markersize=1)"
      ],
      "metadata": {
        "id": "cXeKHfrheuDw"
      },
      "execution_count": null,
      "outputs": []
    },
    {
      "cell_type": "markdown",
      "source": [
        "## End Section: Scratch Paper\n",
        "This section is for you to test out anything you don't want to do in-line in the main class notebook. It may also be useful for impromptu examples. To preserve this, you **must** save your notebook to your Github or Drive before navigating away from the page."
      ],
      "metadata": {
        "id": "E5K988Jv7EmF"
      }
    },
    {
      "cell_type": "code",
      "source": [],
      "metadata": {
        "id": "e_lIDpeH7WtL"
      },
      "execution_count": null,
      "outputs": []
    }
  ]
}