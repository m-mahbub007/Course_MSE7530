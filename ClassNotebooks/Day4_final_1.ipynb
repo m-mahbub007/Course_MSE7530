{
  "nbformat": 4,
  "nbformat_minor": 0,
  "metadata": {
    "colab": {
      "provenance": [],
      "include_colab_link": true
    },
    "kernelspec": {
      "name": "python3",
      "display_name": "Python 3"
    },
    "language_info": {
      "name": "python"
    }
  },
  "cells": [
    {
      "cell_type": "markdown",
      "metadata": {
        "id": "view-in-github",
        "colab_type": "text"
      },
      "source": [
        "<a href=\"https://colab.research.google.com/github/m-mahbub007/Course_MSE7530/blob/main/ClassNotebooks/Day4_final_1.ipynb\" target=\"_parent\"><img src=\"https://colab.research.google.com/assets/colab-badge.svg\" alt=\"Open In Colab\"/></a>"
      ]
    },
    {
      "cell_type": "markdown",
      "source": [
        "# Lecture 4: Fourier-Transform Infrared Spectroscopy\n",
        "MSE 7530, Fall 2025, Wayne State University  \n",
        "Wednesday, September 10th, 2025  \n",
        "Prof. Camille Bishop  "
      ],
      "metadata": {
        "id": "yuFNy7GVyQBM"
      }
    },
    {
      "cell_type": "markdown",
      "source": [
        "## Part 0.5: Quick refresher and necessary import cells\n",
        "Every notebook will generally start with all the necessary import cells in one place; here I will import all packages that we used at once."
      ],
      "metadata": {
        "id": "09m7qD5ST6TX"
      }
    },
    {
      "cell_type": "code",
      "execution_count": 1,
      "metadata": {
        "id": "MPagbos_RLUn"
      },
      "outputs": [],
      "source": [
        "# the standard cell\n",
        "import matplotlib.pyplot as plt\n",
        "import numpy as np\n",
        "import pandas as pd\n",
        "import os"
      ]
    },
    {
      "cell_type": "markdown",
      "source": [
        "Setting up file access to the class GH Repo and your personal Google Drive"
      ],
      "metadata": {
        "id": "mz_I9gjCUlR9"
      }
    },
    {
      "cell_type": "code",
      "source": [
        "!git clone https://github.com/cbishop4/MSE7530.git\n",
        "from google.colab import drive\n",
        "drive.mount('/content/drive')"
      ],
      "metadata": {
        "id": "s9K5YJ8HUfNR",
        "colab": {
          "base_uri": "https://localhost:8080/"
        },
        "outputId": "050c8f4f-fc50-4b5b-cb2c-10c7ab443c23"
      },
      "execution_count": 2,
      "outputs": [
        {
          "output_type": "stream",
          "name": "stdout",
          "text": [
            "Cloning into 'MSE7530'...\n",
            "remote: Enumerating objects: 143, done.\u001b[K\n",
            "remote: Counting objects: 100% (143/143), done.\u001b[K\n",
            "remote: Compressing objects: 100% (129/129), done.\u001b[K\n",
            "remote: Total 143 (delta 55), reused 0 (delta 0), pack-reused 0 (from 0)\u001b[K\n",
            "Receiving objects: 100% (143/143), 6.85 MiB | 10.27 MiB/s, done.\n",
            "Resolving deltas: 100% (55/55), done.\n",
            "Mounted at /content/drive\n"
          ]
        }
      ]
    },
    {
      "cell_type": "code",
      "source": [],
      "metadata": {
        "id": "nW4kLfe2xkvp"
      },
      "execution_count": null,
      "outputs": []
    },
    {
      "cell_type": "markdown",
      "source": [
        "## Python Skill 1: User-defined Functions"
      ],
      "metadata": {
        "id": "3vohxrNFn2XX"
      }
    },
    {
      "cell_type": "markdown",
      "source": [
        "You can make a user-defined function to solve any equation. It can have as many inputs and as many outputs as you want. Here is a simple equation to find the volume of a sphere, given its radius:"
      ],
      "metadata": {
        "id": "vI8KotQjn7R7"
      }
    },
    {
      "cell_type": "code",
      "source": [
        "def sphere_volume(radius):\n",
        "  vol = (4/3)*np.pi*radius**3\n",
        "  return vol"
      ],
      "metadata": {
        "id": "9dgTt3WCoEE4"
      },
      "execution_count": 3,
      "outputs": []
    },
    {
      "cell_type": "markdown",
      "source": [
        "We can then call the function using its name"
      ],
      "metadata": {
        "id": "BLxlo0BroUHB"
      }
    },
    {
      "cell_type": "code",
      "source": [
        "Vsph_2 = sphere_volume(2)\n",
        "print(f'The volume of the sphere with radius of 2 is {Vsph_2}')"
      ],
      "metadata": {
        "id": "bihlMk2woYTE",
        "colab": {
          "base_uri": "https://localhost:8080/"
        },
        "outputId": "6039b8d0-0e6b-4127-ce04-ff98887ac2fc"
      },
      "execution_count": 7,
      "outputs": [
        {
          "output_type": "stream",
          "name": "stdout",
          "text": [
            "The volume of the sphere with radius of 2 is 33.510321638291124\n"
          ]
        }
      ]
    },
    {
      "cell_type": "markdown",
      "source": [
        "<font color='red'>  Write a function to calculate the wavelength of a photon of a given energy, and use it to answer the question: A typical synchrotron X-ray scattering experiment uses X-rays with energy = 10 keV. What is the X-ray wavelength in nm?"
      ],
      "metadata": {
        "id": "5uqiPs4htaJR"
      }
    },
    {
      "cell_type": "markdown",
      "source": [
        "Scientific reminders:  \n",
        "$E = h\\nu$  \n",
        "$\\nu = \\frac{c}{\\lambda}$  \n",
        "$h = 6.626 \\times 10^{-34} J \\cdotp s$  \n",
        "$c = 3.0 \\times 10^{8} m/s$  \n",
        "$1 eV = 1.602 \\times 10^{-19} J$"
      ],
      "metadata": {
        "id": "wR4ZG4IItpQL"
      }
    },
    {
      "cell_type": "code",
      "source": [
        "def wl(energy):\n",
        "  h=6.626*10**-34\n",
        "  c=3*10**8\n",
        "  energy1 = energy*1.602*10**-19\n",
        "  wl = (h*c)/(energy1)\n",
        "  return wl"
      ],
      "metadata": {
        "id": "zpL3_SQPplCZ"
      },
      "execution_count": 60,
      "outputs": []
    },
    {
      "cell_type": "code",
      "source": [
        "wavelength_nm=wl(10000)\n",
        "print(f'The wavelength of a photon with energy of 10 keV is {(wavelength_nm*10**9)} nm')"
      ],
      "metadata": {
        "colab": {
          "base_uri": "https://localhost:8080/"
        },
        "id": "Kd8nXiJf_CbH",
        "outputId": "5f08d253-2fb0-45fb-b3bd-2fd9f8d9e550"
      },
      "execution_count": 69,
      "outputs": [
        {
          "output_type": "stream",
          "name": "stdout",
          "text": [
            "The wavelength of a photon with energy of 10 keV is 0.12408239700374532 nm\n"
          ]
        }
      ]
    },
    {
      "cell_type": "markdown",
      "source": [
        "We can also use a function to calculate a range of volumes at once. For example, let's take a range of sphere radii. We use the\n",
        "\n",
        "\n",
        "```\n",
        "np.linspace(start, stop, numvalues)\n",
        "```\n",
        "function to generate a numpy array of evenly spaced numbers quickly. For future reference, there is also a\n",
        "```\n",
        "np.logspace()\n",
        "```\n",
        "function, which generates a numpy array of values that are evenly spaced on a log scale.\n"
      ],
      "metadata": {
        "id": "4VpX20BBpvHd"
      }
    },
    {
      "cell_type": "code",
      "source": [
        "radii = np.linspace(1,10,10) # generates an array from 1 to 10 with 10 values\n",
        "print(radii)"
      ],
      "metadata": {
        "id": "zF1JM5wYpkrQ",
        "colab": {
          "base_uri": "https://localhost:8080/"
        },
        "outputId": "9026f8d8-c0fa-4a74-9055-9248917f131f"
      },
      "execution_count": 5,
      "outputs": [
        {
          "output_type": "stream",
          "name": "stdout",
          "text": [
            "[ 1.  2.  3.  4.  5.  6.  7.  8.  9. 10.]\n"
          ]
        }
      ]
    },
    {
      "cell_type": "code",
      "source": [
        "volumes = sphere_volume(radii)\n",
        "plt.plot(radii,volumes,'o')\n",
        "plt.xlabel('Radius (nm)')\n",
        "plt.ylabel('Volume ($nm^{3}$)')"
      ],
      "metadata": {
        "id": "sBdmpV8QLLwC",
        "colab": {
          "base_uri": "https://localhost:8080/",
          "height": 466
        },
        "outputId": "4f0f838e-a260-4c7b-ca0b-4c918b60ba41"
      },
      "execution_count": 6,
      "outputs": [
        {
          "output_type": "execute_result",
          "data": {
            "text/plain": [
              "Text(0, 0.5, 'Volume ($nm^{3}$)')"
            ]
          },
          "metadata": {},
          "execution_count": 6
        },
        {
          "output_type": "display_data",
          "data": {
            "text/plain": [
              "<Figure size 640x480 with 1 Axes>"
            ],
            "image/png": "[encoded data removed]"
          },
          "metadata": {}
        }
      ]
    },
    {
      "cell_type": "markdown",
      "source": [
        "<font color='red'>Now, do the same for a range of X-ray energies from 100 eV to 10 keV. What do you notice about the plot? Is there a better way to scale it?"
      ],
      "metadata": {
        "id": "GEQ7NgRQn7Fx"
      }
    },
    {
      "cell_type": "code",
      "source": [
        "energies = np.linspace(100,10000,1000)\n",
        "print(energies)\n"
      ],
      "metadata": {
        "id": "uTTzW616FfEy",
        "outputId": "0ad715dd-d807-4349-992d-0d222bf5f676",
        "colab": {
          "base_uri": "https://localhost:8080/"
        }
      },
      "execution_count": 72,
      "outputs": [
        {
          "output_type": "stream",
          "name": "stdout",
          "text": [
            "[  100.           109.90990991   119.81981982   129.72972973\n",
            "   139.63963964   149.54954955   159.45945946   169.36936937\n",
            "   179.27927928   189.18918919   199.0990991    209.00900901\n",
            "   218.91891892   228.82882883   238.73873874   248.64864865\n",
            "   258.55855856   268.46846847   278.37837838   288.28828829\n",
            "   298.1981982    308.10810811   318.01801802   327.92792793\n",
            "   337.83783784   347.74774775   357.65765766   367.56756757\n",
            "   377.47747748   387.38738739   397.2972973    407.20720721\n",
            "   417.11711712   427.02702703   436.93693694   446.84684685\n",
            "   456.75675676   466.66666667   476.57657658   486.48648649\n",
            "   496.3963964    506.30630631   516.21621622   526.12612613\n",
            "   536.03603604   545.94594595   555.85585586   565.76576577\n",
            "   575.67567568   585.58558559   595.4954955    605.40540541\n",
            "   615.31531532   625.22522523   635.13513514   645.04504505\n",
            "   654.95495495   664.86486486   674.77477477   684.68468468\n",
            "   694.59459459   704.5045045    714.41441441   724.32432432\n",
            "   734.23423423   744.14414414   754.05405405   763.96396396\n",
            "   773.87387387   783.78378378   793.69369369   803.6036036\n",
            "   813.51351351   823.42342342   833.33333333   843.24324324\n",
            "   853.15315315   863.06306306   872.97297297   882.88288288\n",
            "   892.79279279   902.7027027    912.61261261   922.52252252\n",
            "   932.43243243   942.34234234   952.25225225   962.16216216\n",
            "   972.07207207   981.98198198   991.89189189  1001.8018018\n",
            "  1011.71171171  1021.62162162  1031.53153153  1041.44144144\n",
            "  1051.35135135  1061.26126126  1071.17117117  1081.08108108\n",
            "  1090.99099099  1100.9009009   1110.81081081  1120.72072072\n",
            "  1130.63063063  1140.54054054  1150.45045045  1160.36036036\n",
            "  1170.27027027  1180.18018018  1190.09009009  1200.\n",
            "  1209.90990991  1219.81981982  1229.72972973  1239.63963964\n",
            "  1249.54954955  1259.45945946  1269.36936937  1279.27927928\n",
            "  1289.18918919  1299.0990991   1309.00900901  1318.91891892\n",
            "  1328.82882883  1338.73873874  1348.64864865  1358.55855856\n",
            "  1368.46846847  1378.37837838  1388.28828829  1398.1981982\n",
            "  1408.10810811  1418.01801802  1427.92792793  1437.83783784\n",
            "  1447.74774775  1457.65765766  1467.56756757  1477.47747748\n",
            "  1487.38738739  1497.2972973   1507.20720721  1517.11711712\n",
            "  1527.02702703  1536.93693694  1546.84684685  1556.75675676\n",
            "  1566.66666667  1576.57657658  1586.48648649  1596.3963964\n",
            "  1606.30630631  1616.21621622  1626.12612613  1636.03603604\n",
            "  1645.94594595  1655.85585586  1665.76576577  1675.67567568\n",
            "  1685.58558559  1695.4954955   1705.40540541  1715.31531532\n",
            "  1725.22522523  1735.13513514  1745.04504505  1754.95495495\n",
            "  1764.86486486  1774.77477477  1784.68468468  1794.59459459\n",
            "  1804.5045045   1814.41441441  1824.32432432  1834.23423423\n",
            "  1844.14414414  1854.05405405  1863.96396396  1873.87387387\n",
            "  1883.78378378  1893.69369369  1903.6036036   1913.51351351\n",
            "  1923.42342342  1933.33333333  1943.24324324  1953.15315315\n",
            "  1963.06306306  1972.97297297  1982.88288288  1992.79279279\n",
            "  2002.7027027   2012.61261261  2022.52252252  2032.43243243\n",
            "  2042.34234234  2052.25225225  2062.16216216  2072.07207207\n",
            "  2081.98198198  2091.89189189  2101.8018018   2111.71171171\n",
            "  2121.62162162  2131.53153153  2141.44144144  2151.35135135\n",
            "  2161.26126126  2171.17117117  2181.08108108  2190.99099099\n",
            "  2200.9009009   2210.81081081  2220.72072072  2230.63063063\n",
            "  2240.54054054  2250.45045045  2260.36036036  2270.27027027\n",
            "  2280.18018018  2290.09009009  2300.          2309.90990991\n",
            "  2319.81981982  2329.72972973  2339.63963964  2349.54954955\n",
            "  2359.45945946  2369.36936937  2379.27927928  2389.18918919\n",
            "  2399.0990991   2409.00900901  2418.91891892  2428.82882883\n",
            "  2438.73873874  2448.64864865  2458.55855856  2468.46846847\n",
            "  2478.37837838  2488.28828829  2498.1981982   2508.10810811\n",
            "  2518.01801802  2527.92792793  2537.83783784  2547.74774775\n",
            "  2557.65765766  2567.56756757  2577.47747748  2587.38738739\n",
            "  2597.2972973   2607.20720721  2617.11711712  2627.02702703\n",
            "  2636.93693694  2646.84684685  2656.75675676  2666.66666667\n",
            "  2676.57657658  2686.48648649  2696.3963964   2706.30630631\n",
            "  2716.21621622  2726.12612613  2736.03603604  2745.94594595\n",
            "  2755.85585586  2765.76576577  2775.67567568  2785.58558559\n",
            "  2795.4954955   2805.40540541  2815.31531532  2825.22522523\n",
            "  2835.13513514  2845.04504505  2854.95495495  2864.86486486\n",
            "  2874.77477477  2884.68468468  2894.59459459  2904.5045045\n",
            "  2914.41441441  2924.32432432  2934.23423423  2944.14414414\n",
            "  2954.05405405  2963.96396396  2973.87387387  2983.78378378\n",
            "  2993.69369369  3003.6036036   3013.51351351  3023.42342342\n",
            "  3033.33333333  3043.24324324  3053.15315315  3063.06306306\n",
            "  3072.97297297  3082.88288288  3092.79279279  3102.7027027\n",
            "  3112.61261261  3122.52252252  3132.43243243  3142.34234234\n",
            "  3152.25225225  3162.16216216  3172.07207207  3181.98198198\n",
            "  3191.89189189  3201.8018018   3211.71171171  3221.62162162\n",
            "  3231.53153153  3241.44144144  3251.35135135  3261.26126126\n",
            "  3271.17117117  3281.08108108  3290.99099099  3300.9009009\n",
            "  3310.81081081  3320.72072072  3330.63063063  3340.54054054\n",
            "  3350.45045045  3360.36036036  3370.27027027  3380.18018018\n",
            "  3390.09009009  3400.          3409.90990991  3419.81981982\n",
            "  3429.72972973  3439.63963964  3449.54954955  3459.45945946\n",
            "  3469.36936937  3479.27927928  3489.18918919  3499.0990991\n",
            "  3509.00900901  3518.91891892  3528.82882883  3538.73873874\n",
            "  3548.64864865  3558.55855856  3568.46846847  3578.37837838\n",
            "  3588.28828829  3598.1981982   3608.10810811  3618.01801802\n",
            "  3627.92792793  3637.83783784  3647.74774775  3657.65765766\n",
            "  3667.56756757  3677.47747748  3687.38738739  3697.2972973\n",
            "  3707.20720721  3717.11711712  3727.02702703  3736.93693694\n",
            "  3746.84684685  3756.75675676  3766.66666667  3776.57657658\n",
            "  3786.48648649  3796.3963964   3806.30630631  3816.21621622\n",
            "  3826.12612613  3836.03603604  3845.94594595  3855.85585586\n",
            "  3865.76576577  3875.67567568  3885.58558559  3895.4954955\n",
            "  3905.40540541  3915.31531532  3925.22522523  3935.13513514\n",
            "  3945.04504505  3954.95495495  3964.86486486  3974.77477477\n",
            "  3984.68468468  3994.59459459  4004.5045045   4014.41441441\n",
            "  4024.32432432  4034.23423423  4044.14414414  4054.05405405\n",
            "  4063.96396396  4073.87387387  4083.78378378  4093.69369369\n",
            "  4103.6036036   4113.51351351  4123.42342342  4133.33333333\n",
            "  4143.24324324  4153.15315315  4163.06306306  4172.97297297\n",
            "  4182.88288288  4192.79279279  4202.7027027   4212.61261261\n",
            "  4222.52252252  4232.43243243  4242.34234234  4252.25225225\n",
            "  4262.16216216  4272.07207207  4281.98198198  4291.89189189\n",
            "  4301.8018018   4311.71171171  4321.62162162  4331.53153153\n",
            "  4341.44144144  4351.35135135  4361.26126126  4371.17117117\n",
            "  4381.08108108  4390.99099099  4400.9009009   4410.81081081\n",
            "  4420.72072072  4430.63063063  4440.54054054  4450.45045045\n",
            "  4460.36036036  4470.27027027  4480.18018018  4490.09009009\n",
            "  4500.          4509.90990991  4519.81981982  4529.72972973\n",
            "  4539.63963964  4549.54954955  4559.45945946  4569.36936937\n",
            "  4579.27927928  4589.18918919  4599.0990991   4609.00900901\n",
            "  4618.91891892  4628.82882883  4638.73873874  4648.64864865\n",
            "  4658.55855856  4668.46846847  4678.37837838  4688.28828829\n",
            "  4698.1981982   4708.10810811  4718.01801802  4727.92792793\n",
            "  4737.83783784  4747.74774775  4757.65765766  4767.56756757\n",
            "  4777.47747748  4787.38738739  4797.2972973   4807.20720721\n",
            "  4817.11711712  4827.02702703  4836.93693694  4846.84684685\n",
            "  4856.75675676  4866.66666667  4876.57657658  4886.48648649\n",
            "  4896.3963964   4906.30630631  4916.21621622  4926.12612613\n",
            "  4936.03603604  4945.94594595  4955.85585586  4965.76576577\n",
            "  4975.67567568  4985.58558559  4995.4954955   5005.40540541\n",
            "  5015.31531532  5025.22522523  5035.13513514  5045.04504505\n",
            "  5054.95495495  5064.86486486  5074.77477477  5084.68468468\n",
            "  5094.59459459  5104.5045045   5114.41441441  5124.32432432\n",
            "  5134.23423423  5144.14414414  5154.05405405  5163.96396396\n",
            "  5173.87387387  5183.78378378  5193.69369369  5203.6036036\n",
            "  5213.51351351  5223.42342342  5233.33333333  5243.24324324\n",
            "  5253.15315315  5263.06306306  5272.97297297  5282.88288288\n",
            "  5292.79279279  5302.7027027   5312.61261261  5322.52252252\n",
            "  5332.43243243  5342.34234234  5352.25225225  5362.16216216\n",
            "  5372.07207207  5381.98198198  5391.89189189  5401.8018018\n",
            "  5411.71171171  5421.62162162  5431.53153153  5441.44144144\n",
            "  5451.35135135  5461.26126126  5471.17117117  5481.08108108\n",
            "  5490.99099099  5500.9009009   5510.81081081  5520.72072072\n",
            "  5530.63063063  5540.54054054  5550.45045045  5560.36036036\n",
            "  5570.27027027  5580.18018018  5590.09009009  5600.\n",
            "  5609.90990991  5619.81981982  5629.72972973  5639.63963964\n",
            "  5649.54954955  5659.45945946  5669.36936937  5679.27927928\n",
            "  5689.18918919  5699.0990991   5709.00900901  5718.91891892\n",
            "  5728.82882883  5738.73873874  5748.64864865  5758.55855856\n",
            "  5768.46846847  5778.37837838  5788.28828829  5798.1981982\n",
            "  5808.10810811  5818.01801802  5827.92792793  5837.83783784\n",
            "  5847.74774775  5857.65765766  5867.56756757  5877.47747748\n",
            "  5887.38738739  5897.2972973   5907.20720721  5917.11711712\n",
            "  5927.02702703  5936.93693694  5946.84684685  5956.75675676\n",
            "  5966.66666667  5976.57657658  5986.48648649  5996.3963964\n",
            "  6006.30630631  6016.21621622  6026.12612613  6036.03603604\n",
            "  6045.94594595  6055.85585586  6065.76576577  6075.67567568\n",
            "  6085.58558559  6095.4954955   6105.40540541  6115.31531532\n",
            "  6125.22522523  6135.13513514  6145.04504505  6154.95495495\n",
            "  6164.86486486  6174.77477477  6184.68468468  6194.59459459\n",
            "  6204.5045045   6214.41441441  6224.32432432  6234.23423423\n",
            "  6244.14414414  6254.05405405  6263.96396396  6273.87387387\n",
            "  6283.78378378  6293.69369369  6303.6036036   6313.51351351\n",
            "  6323.42342342  6333.33333333  6343.24324324  6353.15315315\n",
            "  6363.06306306  6372.97297297  6382.88288288  6392.79279279\n",
            "  6402.7027027   6412.61261261  6422.52252252  6432.43243243\n",
            "  6442.34234234  6452.25225225  6462.16216216  6472.07207207\n",
            "  6481.98198198  6491.89189189  6501.8018018   6511.71171171\n",
            "  6521.62162162  6531.53153153  6541.44144144  6551.35135135\n",
            "  6561.26126126  6571.17117117  6581.08108108  6590.99099099\n",
            "  6600.9009009   6610.81081081  6620.72072072  6630.63063063\n",
            "  6640.54054054  6650.45045045  6660.36036036  6670.27027027\n",
            "  6680.18018018  6690.09009009  6700.          6709.90990991\n",
            "  6719.81981982  6729.72972973  6739.63963964  6749.54954955\n",
            "  6759.45945946  6769.36936937  6779.27927928  6789.18918919\n",
            "  6799.0990991   6809.00900901  6818.91891892  6828.82882883\n",
            "  6838.73873874  6848.64864865  6858.55855856  6868.46846847\n",
            "  6878.37837838  6888.28828829  6898.1981982   6908.10810811\n",
            "  6918.01801802  6927.92792793  6937.83783784  6947.74774775\n",
            "  6957.65765766  6967.56756757  6977.47747748  6987.38738739\n",
            "  6997.2972973   7007.20720721  7017.11711712  7027.02702703\n",
            "  7036.93693694  7046.84684685  7056.75675676  7066.66666667\n",
            "  7076.57657658  7086.48648649  7096.3963964   7106.30630631\n",
            "  7116.21621622  7126.12612613  7136.03603604  7145.94594595\n",
            "  7155.85585586  7165.76576577  7175.67567568  7185.58558559\n",
            "  7195.4954955   7205.40540541  7215.31531532  7225.22522523\n",
            "  7235.13513514  7245.04504505  7254.95495495  7264.86486486\n",
            "  7274.77477477  7284.68468468  7294.59459459  7304.5045045\n",
            "  7314.41441441  7324.32432432  7334.23423423  7344.14414414\n",
            "  7354.05405405  7363.96396396  7373.87387387  7383.78378378\n",
            "  7393.69369369  7403.6036036   7413.51351351  7423.42342342\n",
            "  7433.33333333  7443.24324324  7453.15315315  7463.06306306\n",
            "  7472.97297297  7482.88288288  7492.79279279  7502.7027027\n",
            "  7512.61261261  7522.52252252  7532.43243243  7542.34234234\n",
            "  7552.25225225  7562.16216216  7572.07207207  7581.98198198\n",
            "  7591.89189189  7601.8018018   7611.71171171  7621.62162162\n",
            "  7631.53153153  7641.44144144  7651.35135135  7661.26126126\n",
            "  7671.17117117  7681.08108108  7690.99099099  7700.9009009\n",
            "  7710.81081081  7720.72072072  7730.63063063  7740.54054054\n",
            "  7750.45045045  7760.36036036  7770.27027027  7780.18018018\n",
            "  7790.09009009  7800.          7809.90990991  7819.81981982\n",
            "  7829.72972973  7839.63963964  7849.54954955  7859.45945946\n",
            "  7869.36936937  7879.27927928  7889.18918919  7899.0990991\n",
            "  7909.00900901  7918.91891892  7928.82882883  7938.73873874\n",
            "  7948.64864865  7958.55855856  7968.46846847  7978.37837838\n",
            "  7988.28828829  7998.1981982   8008.10810811  8018.01801802\n",
            "  8027.92792793  8037.83783784  8047.74774775  8057.65765766\n",
            "  8067.56756757  8077.47747748  8087.38738739  8097.2972973\n",
            "  8107.20720721  8117.11711712  8127.02702703  8136.93693694\n",
            "  8146.84684685  8156.75675676  8166.66666667  8176.57657658\n",
            "  8186.48648649  8196.3963964   8206.30630631  8216.21621622\n",
            "  8226.12612613  8236.03603604  8245.94594595  8255.85585586\n",
            "  8265.76576577  8275.67567568  8285.58558559  8295.4954955\n",
            "  8305.40540541  8315.31531532  8325.22522523  8335.13513514\n",
            "  8345.04504505  8354.95495495  8364.86486486  8374.77477477\n",
            "  8384.68468468  8394.59459459  8404.5045045   8414.41441441\n",
            "  8424.32432432  8434.23423423  8444.14414414  8454.05405405\n",
            "  8463.96396396  8473.87387387  8483.78378378  8493.69369369\n",
            "  8503.6036036   8513.51351351  8523.42342342  8533.33333333\n",
            "  8543.24324324  8553.15315315  8563.06306306  8572.97297297\n",
            "  8582.88288288  8592.79279279  8602.7027027   8612.61261261\n",
            "  8622.52252252  8632.43243243  8642.34234234  8652.25225225\n",
            "  8662.16216216  8672.07207207  8681.98198198  8691.89189189\n",
            "  8701.8018018   8711.71171171  8721.62162162  8731.53153153\n",
            "  8741.44144144  8751.35135135  8761.26126126  8771.17117117\n",
            "  8781.08108108  8790.99099099  8800.9009009   8810.81081081\n",
            "  8820.72072072  8830.63063063  8840.54054054  8850.45045045\n",
            "  8860.36036036  8870.27027027  8880.18018018  8890.09009009\n",
            "  8900.          8909.90990991  8919.81981982  8929.72972973\n",
            "  8939.63963964  8949.54954955  8959.45945946  8969.36936937\n",
            "  8979.27927928  8989.18918919  8999.0990991   9009.00900901\n",
            "  9018.91891892  9028.82882883  9038.73873874  9048.64864865\n",
            "  9058.55855856  9068.46846847  9078.37837838  9088.28828829\n",
            "  9098.1981982   9108.10810811  9118.01801802  9127.92792793\n",
            "  9137.83783784  9147.74774775  9157.65765766  9167.56756757\n",
            "  9177.47747748  9187.38738739  9197.2972973   9207.20720721\n",
            "  9217.11711712  9227.02702703  9236.93693694  9246.84684685\n",
            "  9256.75675676  9266.66666667  9276.57657658  9286.48648649\n",
            "  9296.3963964   9306.30630631  9316.21621622  9326.12612613\n",
            "  9336.03603604  9345.94594595  9355.85585586  9365.76576577\n",
            "  9375.67567568  9385.58558559  9395.4954955   9405.40540541\n",
            "  9415.31531532  9425.22522523  9435.13513514  9445.04504505\n",
            "  9454.95495495  9464.86486486  9474.77477477  9484.68468468\n",
            "  9494.59459459  9504.5045045   9514.41441441  9524.32432432\n",
            "  9534.23423423  9544.14414414  9554.05405405  9563.96396396\n",
            "  9573.87387387  9583.78378378  9593.69369369  9603.6036036\n",
            "  9613.51351351  9623.42342342  9633.33333333  9643.24324324\n",
            "  9653.15315315  9663.06306306  9672.97297297  9682.88288288\n",
            "  9692.79279279  9702.7027027   9712.61261261  9722.52252252\n",
            "  9732.43243243  9742.34234234  9752.25225225  9762.16216216\n",
            "  9772.07207207  9781.98198198  9791.89189189  9801.8018018\n",
            "  9811.71171171  9821.62162162  9831.53153153  9841.44144144\n",
            "  9851.35135135  9861.26126126  9871.17117117  9881.08108108\n",
            "  9890.99099099  9900.9009009   9910.81081081  9920.72072072\n",
            "  9930.63063063  9940.54054054  9950.45045045  9960.36036036\n",
            "  9970.27027027  9980.18018018  9990.09009009 10000.        ]\n"
          ]
        }
      ]
    },
    {
      "cell_type": "code",
      "source": [
        "wavelengths = wl(energies)\n",
        "plt.plot(energies,wavelengths,'o')\n",
        "plt.xlabel('Energy (keV)')\n",
        "plt.ylabel('Wavelength (nm)')"
      ],
      "metadata": {
        "id": "huXtJnnRGUpb",
        "outputId": "553c1a63-4c5b-461c-ea36-97d464605852",
        "colab": {
          "base_uri": "https://localhost:8080/",
          "height": 482
        }
      },
      "execution_count": 73,
      "outputs": [
        {
          "output_type": "execute_result",
          "data": {
            "text/plain": [
              "Text(0, 0.5, 'Wavelength (nm)')"
            ]
          },
          "metadata": {},
          "execution_count": 73
        },
        {
          "output_type": "display_data",
          "data": {
            "text/plain": [
              "<Figure size 640x480 with 1 Axes>"
            ],
            "image/png": "[encoded data removed]"
          },
          "metadata": {}
        }
      ]
    },
    {
      "cell_type": "markdown",
      "source": [
        "#### <font color='blue'>The most important concepts from above:\n",
        "1) A user-defined function can be used to automatically calculate quantities, avoiding large repeated blocks of code  \n",
        "2) An array of values can be passed to a function to output an array of corresponding return values, enabling quick plotting of trends"
      ],
      "metadata": {
        "id": "J0Mz_WSmn61G"
      }
    },
    {
      "cell_type": "markdown",
      "source": [
        "## Part 2: Fourier Transform Infrared Spectroscopy"
      ],
      "metadata": {
        "id": "m_9yFLTjcay5"
      }
    },
    {
      "cell_type": "markdown",
      "source": [
        "Return to the class powerpoint/board for theoretical background."
      ],
      "metadata": {
        "id": "20_QmTxZNPfa"
      }
    },
    {
      "cell_type": "markdown",
      "source": [
        "##  Exercise 1: Calculating \"toy\" interferograms\n",
        "<font color='red'><font size=5> Calculate the intensity I as a function of $\\delta$ (retardation, or difference in path length) for light with $\\lambda$ = $2 \\mu m$. Take the value $I_{0}$ to be arbitrarily equal to 1. </font></font>  \n",
        "Note that the cosine function is part of numpy and <font color='blue'> takes inputs and outputs in radians.</font> There are a couple functions you can use to convert between the two. (You may or may not have to do this in this particular case; check if the cosine term is in radians or degrees)\n",
        "\n",
        "```\n",
        "np.cos(x) # input and output in radians\n",
        "np.rad2deg(x) # converts an angle x in radians to degrees\n",
        "np.radians(x) # converts an angle x in degrees to radians\n",
        "np.pi # no arguments or parentheses for this; it is just a constant\n",
        "```\n",
        "Alternatively to using the function, you can just use the conversion where $\\pi~ radians = 180°$.\n"
      ],
      "metadata": {
        "id": "iL6r5UQlpKiz"
      }
    },
    {
      "cell_type": "markdown",
      "source": [
        "Guide to the correct steps:  \n",
        "1) Write a user-defined function that converts $\\delta$ and $\\lambda$ to Intensity.  \n",
        "2) Define an evenly spaced numpy array of values of $\\delta$ (I recommend values from -20 to 20 $\\mu m$.    \n",
        "3) Use your function to calculate the range of intensities expected.\n",
        "4) Plot your intensities on the y-axis vs. $\\delta$ on the x-axis."
      ],
      "metadata": {
        "id": "OXMTJHweWDh2"
      }
    },
    {
      "cell_type": "code",
      "source": [
        "# your code here (add extra cells if necessary)"
      ],
      "metadata": {
        "id": "FjRGsay9WxfQ"
      },
      "execution_count": null,
      "outputs": []
    },
    {
      "cell_type": "markdown",
      "source": [
        "<font color='red'> Does this look like the interferogram in the example slides? Why or why not?"
      ],
      "metadata": {
        "id": "6339MgWzTH2I"
      }
    },
    {
      "cell_type": "markdown",
      "source": [
        "The above interferogram was generated from a single wavelength. If you had a monochromatic source, this is what your interferogram would look like. This corresponds to  \n",
        "<font size=6>$I(\\delta) = \\frac{I_{0}}{2}[1 + cos(\\frac{2\\pi \\delta}{\\lambda})]  $  </font>  \n",
        "Our case does still satisfy the formula for a total interferogram at multiple wavelengths,  \n",
        "<font size=6>$I_{T}(\\delta) = \\sum_{k=1}^{K}{\\frac{I_{k,0}}{2}[1 + cos(\\frac{2\\pi \\delta}{\\lambda_{k}})]} $,  </font>  \n",
        "We just simply only have one k (value for wavelength). Next, we will have multiple k's, so the summation will actually be over many terms."
      ],
      "metadata": {
        "id": "jjnjFNBRqJ3G"
      }
    },
    {
      "cell_type": "markdown",
      "source": [
        "### <font color='blue'> Guided: Making the interferogram for many wavelengths (I have written this code because it requires a few new concepts at once)"
      ],
      "metadata": {
        "id": "ABzq4zBUTSts"
      }
    },
    {
      "cell_type": "code",
      "source": [
        "deltas = np.linspace(-100,100, 1001)\n",
        "wl_spectrum = np.linspace(2.5,25,500)\n",
        "interferogram = np.zeros(len(deltas))\n",
        "for wl in wl_spectrum:\n",
        "  interferogram += I_delta(deltas,wl)"
      ],
      "metadata": {
        "id": "GQONgO1sTYRG"
      },
      "execution_count": null,
      "outputs": []
    },
    {
      "cell_type": "code",
      "source": [
        "plt.plot(deltas,interferogram)\n",
        "plt.xlabel('Retardation $\\delta$ ($\\mu$m)')\n",
        "plt.ylabel('Intensity')"
      ],
      "metadata": {
        "id": "_x_PR8Xqk3Ts"
      },
      "execution_count": null,
      "outputs": []
    },
    {
      "cell_type": "markdown",
      "source": [
        "<font color='red'> Does this look like the interferogram in the example slides? Why or why not?"
      ],
      "metadata": {
        "id": "d-i1QntpT-8e"
      }
    },
    {
      "cell_type": "code",
      "source": [
        "deltas = np.linspace(-100,100, 1001)\n",
        "wl_spectrum = np.linspace(2.5,25,500)\n",
        "interferogram = np.zeros(len(deltas))\n",
        "for wl in wl_spectrum:\n",
        "  interferogram += I_delta(deltas,wl)"
      ],
      "metadata": {
        "id": "yTTvkd59qZW0"
      },
      "execution_count": null,
      "outputs": []
    },
    {
      "cell_type": "code",
      "source": [
        "plt.plot(deltas,interferogram)\n",
        "plt.xlabel('Retardation $\\delta$ ($\\mu$m)')\n",
        "plt.ylabel('Intensity')"
      ],
      "metadata": {
        "id": "2mz8jB_FqZW0"
      },
      "execution_count": null,
      "outputs": []
    },
    {
      "cell_type": "markdown",
      "source": [
        "The uniformity of the above interferogram is due to the condition that $I_{0}$ is equal to 1 for every wavelength. Now, we will generate a totally random array of $I_0$ values using the np.random() function."
      ],
      "metadata": {
        "id": "ahqfDBaSqZW1"
      }
    },
    {
      "cell_type": "code",
      "source": [
        "I_0s = np.random.rand(len(wl_spectrum)) # generates a numpy array of random intensities between 0 and 1\n",
        "I_0s"
      ],
      "metadata": {
        "collapsed": true,
        "id": "CEVur_h8qZW1"
      },
      "execution_count": null,
      "outputs": []
    },
    {
      "cell_type": "code",
      "source": [
        "deltas = np.linspace(-100,100, 1001)\n",
        "wl_spectrum = np.linspace(2.5,25,500)\n",
        "interferogram = np.zeros(len(deltas))\n",
        "i = 0\n",
        "for wl in wl_spectrum:\n",
        "  interferogram += I_delta(deltas,wl,I_0=I_0s[i])\n",
        "  i += 1"
      ],
      "metadata": {
        "id": "1mSGEgNFqZW1"
      },
      "execution_count": null,
      "outputs": []
    },
    {
      "cell_type": "code",
      "source": [
        "plt.plot(deltas,interferogram)\n",
        "plt.xlabel('Retardation $\\delta$ ($\\mu$m)')\n",
        "plt.ylabel('Intensity')"
      ],
      "metadata": {
        "id": "CCMd1ZdjqZW1"
      },
      "execution_count": null,
      "outputs": []
    },
    {
      "cell_type": "markdown",
      "source": [
        "### Importance of $I_{0}$ values\n",
        "In the previous exercise, we used $I_{0} = 1$ for every wavelength of IR radiation. However, as we know, the interactions with IR light (which are what we want to measure in the first place) change these. That is why the interferogram generated above looks much more uniform than the real one in the lecture slides.  \n",
        "In the following exercise, we will use variable $I_{0}$ values, including real experimental ones, and consider a few other practical considerations needed, including *apodization* and *background subtraction*."
      ],
      "metadata": {
        "id": "kTNqrfqapkAy"
      }
    },
    {
      "cell_type": "markdown",
      "source": [
        "## Exercise 2 : Building more realistic FTIR spectra\n",
        "In this activity, we will begin with similar exercises as above, and progress to more realistic/complete spectra.  \n",
        "Adapted from B. Shepherd & M.K. Bellamy, *J. Chem. Ed.* 89, 5, (2012)."
      ],
      "metadata": {
        "id": "6aNzu1Q4lSn8"
      }
    },
    {
      "cell_type": "markdown",
      "source": [
        "#### Defining instrumental parameters and the sampling interval"
      ],
      "metadata": {
        "id": "VeSs1hAT9k3j"
      }
    },
    {
      "cell_type": "markdown",
      "source": [
        "The \"experimental details\" of the spectrometer we will \"use\" (which would be determined by the instrument you are using) are:  \n",
        "Resolution: $16 ~cm^{-1}$   \n",
        "Wavenumber range of spectrometer: $3200~ cm^{-1}$ to $470~ cm^{-1}$  \n",
        "We will collect 989 data points in our interferogram.  \n",
        "We calculate our sampling interval, h, based on the wavelength of the calibration laser"
      ],
      "metadata": {
        "id": "-eomGmbp8Edo"
      }
    },
    {
      "cell_type": "code",
      "source": [
        "lambda_HeNe = 632.8 #nm\n",
        "h_cm = lambda_HeNe * 10**-7 #nm to cm\n",
        "h_cm # this is the sampling interval"
      ],
      "metadata": {
        "id": "5fYw-oyJrE_f"
      },
      "execution_count": null,
      "outputs": []
    },
    {
      "cell_type": "markdown",
      "source": [
        "We collect a data point every $6.328 \\times 10^{-5}$ cm."
      ],
      "metadata": {
        "id": "0utWYpIz9Tb7"
      }
    },
    {
      "cell_type": "markdown",
      "source": [
        "Using the principle of Fourier transforms, the intensity as a function of retardation over a series of wavelengths (where $\\bar{\\nu}_{N}$ is the wavenumber equivalent to $\\frac{1}{\\lambda}$):  \n",
        "$I(δ_{total}) = B_{1}cos(2π\\bar{\\nu}_{1}\\delta) + B_{2}cos(2π\\bar{\\nu}_{2}\\delta) + ... + B_{N}cos(2π\\bar{\\nu}_{N}\\delta)$ <font color='grey'>(Equation 1)"
      ],
      "metadata": {
        "id": "2UNISk44t-hR"
      }
    },
    {
      "cell_type": "markdown",
      "source": [
        "#### Starting with a single wavenumber: $1500 cm^{-1}$.  \n",
        "The Intensity, which we will refer to as B, for this wavenumber is $0.8$, for the sake of example. Note that we are beginning this by *creating* an interferogram; 0.8 is not an experimental measurement yet. Once we go backward, revisit this section and make sure you understand the physical meaning. IMO, it makes more sense later.  \n",
        "With the single wavelength, Equation 1 reduces to:  \n",
        "$I(\\delta) = 0.8 * cos(2\\pi * 1500 * \\delta)$"
      ],
      "metadata": {
        "id": "H6K-cslrvHQs"
      }
    },
    {
      "cell_type": "markdown",
      "source": [
        "#### <font color='blue'> Apodization  \n",
        "This is a very important concept to deal with real data.  \n",
        "A true Fourier transform requires data collection from $\\delta = -\\infty ~to + \\infty$, but this is not possible on a real instrument. Additionally, for a real instrument, the signal will decay as the mirror moves further from the beamsplitter. **Apodization is a mathematical process that makes an interferogram recorded at finite retardation diminish in a way that mimics an interferogram recorded to infinite retardation.**  \n",
        "The Apodization Function is given by:  \n",
        "$A(\\delta) = \\frac{1}{2}[1 + cos (\\frac{\\pi\\delta}{\\Delta_{maximum}})]$  <font color='grey'> (Equation 2)</font>  \n",
        "Where $\\Delta_{maximum}$ is the total retardation needed to collect a spectrum at a given resolution, and is equal to $\\frac{1}{resolution}*k_{max}$ (remember that $k_{max} = n_{points} - 1$)\n",
        "\n"
      ],
      "metadata": {
        "id": "L8S2Oti_9fxS"
      }
    },
    {
      "cell_type": "markdown",
      "source": [
        "<font size=6> The Apodized Function is given by $I(\\delta)A(\\delta)$"
      ],
      "metadata": {
        "id": "VPCrUo5FxPni"
      }
    },
    {
      "cell_type": "markdown",
      "source": [
        "#### <font color='red'> Your turn: calculate $I(\\delta), A(\\delta), and~ I(\\delta)A(\\delta)$ for the single-wavelength case.\n",
        "First, let's discuss: what shape will the data have?"
      ],
      "metadata": {
        "id": "ZJxhx_LHxezZ"
      }
    },
    {
      "cell_type": "markdown",
      "source": [
        "First cell: Specify all constants and arrays you will need. Note that $\\delta = kh$, where $k$ is equal to the number of data points, and $h$ is the sampling interval. The first value of $k$ is $0$."
      ],
      "metadata": {
        "id": "iWiTaPr5yVCF"
      }
    },
    {
      "cell_type": "code",
      "source": [
        "# your code here\n",
        "h_cm =\n",
        "ks =\n",
        "deltas =\n",
        "B_1 =\n",
        "wavenumber =\n",
        "Delta_max ="
      ],
      "metadata": {
        "id": "dW8mA85GyTv8"
      },
      "execution_count": null,
      "outputs": []
    },
    {
      "cell_type": "markdown",
      "source": [
        "Second cell: Calculate $A(\\delta)$ and $I(\\delta)$ and save them as variables (these variables will be numpy arrays)."
      ],
      "metadata": {
        "id": "R5RmK-DHyZm9"
      }
    },
    {
      "cell_type": "code",
      "source": [
        "# your code here\n"
      ],
      "metadata": {
        "id": "ha34jvnu9S47"
      },
      "execution_count": null,
      "outputs": []
    },
    {
      "cell_type": "markdown",
      "source": [
        "Third cell: Calculate $A(\\delta)I(\\delta)$ and save as a variable (again a numpy array)"
      ],
      "metadata": {
        "id": "_0n-raRIzxDv"
      }
    },
    {
      "cell_type": "code",
      "source": [
        "# your code here\n"
      ],
      "metadata": {
        "id": "Yj1luU-czvBj"
      },
      "execution_count": null,
      "outputs": []
    },
    {
      "cell_type": "markdown",
      "source": [
        "Fourth cell: Plot the 3 quantities so you can see what you were working with"
      ],
      "metadata": {
        "id": "Ao5AGtau0C0X"
      }
    },
    {
      "cell_type": "code",
      "source": [
        "fig, ax = plt.subplots(1,3,figsize=(12,4))\n",
        "for a in ax:\n",
        "  a.set_xlabel('Retardation $\\\\delta$ (cm)')\n",
        "ax[0].set_ylabel('I ($\\\\delta$)'); ax[1].set_ylabel('A($\\\\delta$)'); ax[2].set_ylabel('A($\\\\delta$)I($\\\\delta$)')\n",
        "ax[0].set_title('Un-apodized intensity'); ax[1].set_title('Apodization Function'); ax[2].set_title('Apodized intensity')\n",
        "\n",
        "# your code here"
      ],
      "metadata": {
        "id": "QFXhm_8q0Bfm"
      },
      "execution_count": null,
      "outputs": []
    },
    {
      "cell_type": "markdown",
      "source": [
        "You can see that the intensity functions have a lot of detail that we can't see because of scaling, so let's look at a smaller portion for our own education."
      ],
      "metadata": {
        "id": "GesoK1R70wYC"
      }
    },
    {
      "cell_type": "code",
      "source": [
        "fig, ax = plt.subplots(1,3,figsize=(12,4))\n",
        "for a in ax:\n",
        "  a.set_xlabel('Retardation $\\\\delta$ (cm)')\n",
        "  a.set_xlim(0,.02)\n",
        "ax[0].set_ylabel('I ($\\\\delta$)'); ax[1].set_ylabel('A($\\\\delta$)'); ax[2].set_ylabel('A($\\\\delta$)I($\\\\delta$)')\n",
        "ax[0].set_title('Un-apodized intensity'); ax[1].set_title('Apodization Function'); ax[2].set_title('Apodized intensity')\n",
        "\n",
        "# your code here"
      ],
      "metadata": {
        "id": "BUT4m-O92WvQ"
      },
      "execution_count": null,
      "outputs": []
    },
    {
      "cell_type": "markdown",
      "source": [
        "## Next time:\n",
        "We will  \n",
        "1. Calculate interferograms for increasing numbers of wavelengths,  \n",
        "2. turn them into FTIR spectra,  \n",
        "3. Turn an experimental FTIR spectrum back to its interferogram,\n",
        "4. Turn an experimental interferogram back into an IR spectrum.  \n",
        "It is possible that one or more of these exercises may be left to homework, depending on how classes go."
      ],
      "metadata": {
        "id": "IlBBNJjQ3C-D"
      }
    },
    {
      "cell_type": "code",
      "source": [],
      "metadata": {
        "id": "gf8wgTsy06HC"
      },
      "execution_count": null,
      "outputs": []
    }
  ]
}